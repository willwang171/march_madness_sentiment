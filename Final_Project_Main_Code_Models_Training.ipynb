{
  "nbformat": 4,
  "nbformat_minor": 0,
  "metadata": {
    "colab": {
      "provenance": [],
      "machine_shape": "hm",
      "gpuType": "T4",
      "include_colab_link": true
    },
    "kernelspec": {
      "name": "python3",
      "display_name": "Python 3"
    },
    "language_info": {
      "name": "python"
    },
    "widgets": {
      "application/vnd.jupyter.widget-state+json": {
        "4e685afbd97f45bba868824ea65d5520": {
          "model_module": "@jupyter-widgets/controls",
          "model_name": "HBoxModel",
          "model_module_version": "1.5.0",
          "state": {
            "_dom_classes": [],
            "_model_module": "@jupyter-widgets/controls",
            "_model_module_version": "1.5.0",
            "_model_name": "HBoxModel",
            "_view_count": null,
            "_view_module": "@jupyter-widgets/controls",
            "_view_module_version": "1.5.0",
            "_view_name": "HBoxView",
            "box_style": "",
            "children": [
              "IPY_MODEL_7f170bee6559426481f67db588908941",
              "IPY_MODEL_a23b3bb9d6a7472ba98b4008ffe64ee0",
              "IPY_MODEL_d2ed5f8c500345fb86ec233fb2ed2531"
            ],
            "layout": "IPY_MODEL_474025ff56514528af07b86bd54ba6a1"
          }
        },
        "7f170bee6559426481f67db588908941": {
          "model_module": "@jupyter-widgets/controls",
          "model_name": "HTMLModel",
          "model_module_version": "1.5.0",
          "state": {
            "_dom_classes": [],
            "_model_module": "@jupyter-widgets/controls",
            "_model_module_version": "1.5.0",
            "_model_name": "HTMLModel",
            "_view_count": null,
            "_view_module": "@jupyter-widgets/controls",
            "_view_module_version": "1.5.0",
            "_view_name": "HTMLView",
            "description": "",
            "description_tooltip": null,
            "layout": "IPY_MODEL_a7f2292bea8a4bc08455a9fa36561041",
            "placeholder": "​",
            "style": "IPY_MODEL_3466a93af3fd4555bc6a3cb014c0a036",
            "value": "Map: 100%"
          }
        },
        "a23b3bb9d6a7472ba98b4008ffe64ee0": {
          "model_module": "@jupyter-widgets/controls",
          "model_name": "FloatProgressModel",
          "model_module_version": "1.5.0",
          "state": {
            "_dom_classes": [],
            "_model_module": "@jupyter-widgets/controls",
            "_model_module_version": "1.5.0",
            "_model_name": "FloatProgressModel",
            "_view_count": null,
            "_view_module": "@jupyter-widgets/controls",
            "_view_module_version": "1.5.0",
            "_view_name": "ProgressView",
            "bar_style": "success",
            "description": "",
            "description_tooltip": null,
            "layout": "IPY_MODEL_92b3ce8d4b224dfabf735a4132d2557f",
            "max": 60000,
            "min": 0,
            "orientation": "horizontal",
            "style": "IPY_MODEL_43a0a57d3c484b8d9a65aee3e8c0cb4c",
            "value": 60000
          }
        },
        "d2ed5f8c500345fb86ec233fb2ed2531": {
          "model_module": "@jupyter-widgets/controls",
          "model_name": "HTMLModel",
          "model_module_version": "1.5.0",
          "state": {
            "_dom_classes": [],
            "_model_module": "@jupyter-widgets/controls",
            "_model_module_version": "1.5.0",
            "_model_name": "HTMLModel",
            "_view_count": null,
            "_view_module": "@jupyter-widgets/controls",
            "_view_module_version": "1.5.0",
            "_view_name": "HTMLView",
            "description": "",
            "description_tooltip": null,
            "layout": "IPY_MODEL_e333ded9177446358e11f6d5721c376c",
            "placeholder": "​",
            "style": "IPY_MODEL_5c2460c8989f40a7b7546fbb08d9412c",
            "value": " 60000/60000 [02:41&lt;00:00, 371.32 examples/s]"
          }
        },
        "474025ff56514528af07b86bd54ba6a1": {
          "model_module": "@jupyter-widgets/base",
          "model_name": "LayoutModel",
          "model_module_version": "1.2.0",
          "state": {
            "_model_module": "@jupyter-widgets/base",
            "_model_module_version": "1.2.0",
            "_model_name": "LayoutModel",
            "_view_count": null,
            "_view_module": "@jupyter-widgets/base",
            "_view_module_version": "1.2.0",
            "_view_name": "LayoutView",
            "align_content": null,
            "align_items": null,
            "align_self": null,
            "border": null,
            "bottom": null,
            "display": null,
            "flex": null,
            "flex_flow": null,
            "grid_area": null,
            "grid_auto_columns": null,
            "grid_auto_flow": null,
            "grid_auto_rows": null,
            "grid_column": null,
            "grid_gap": null,
            "grid_row": null,
            "grid_template_areas": null,
            "grid_template_columns": null,
            "grid_template_rows": null,
            "height": null,
            "justify_content": null,
            "justify_items": null,
            "left": null,
            "margin": null,
            "max_height": null,
            "max_width": null,
            "min_height": null,
            "min_width": null,
            "object_fit": null,
            "object_position": null,
            "order": null,
            "overflow": null,
            "overflow_x": null,
            "overflow_y": null,
            "padding": null,
            "right": null,
            "top": null,
            "visibility": null,
            "width": null
          }
        },
        "a7f2292bea8a4bc08455a9fa36561041": {
          "model_module": "@jupyter-widgets/base",
          "model_name": "LayoutModel",
          "model_module_version": "1.2.0",
          "state": {
            "_model_module": "@jupyter-widgets/base",
            "_model_module_version": "1.2.0",
            "_model_name": "LayoutModel",
            "_view_count": null,
            "_view_module": "@jupyter-widgets/base",
            "_view_module_version": "1.2.0",
            "_view_name": "LayoutView",
            "align_content": null,
            "align_items": null,
            "align_self": null,
            "border": null,
            "bottom": null,
            "display": null,
            "flex": null,
            "flex_flow": null,
            "grid_area": null,
            "grid_auto_columns": null,
            "grid_auto_flow": null,
            "grid_auto_rows": null,
            "grid_column": null,
            "grid_gap": null,
            "grid_row": null,
            "grid_template_areas": null,
            "grid_template_columns": null,
            "grid_template_rows": null,
            "height": null,
            "justify_content": null,
            "justify_items": null,
            "left": null,
            "margin": null,
            "max_height": null,
            "max_width": null,
            "min_height": null,
            "min_width": null,
            "object_fit": null,
            "object_position": null,
            "order": null,
            "overflow": null,
            "overflow_x": null,
            "overflow_y": null,
            "padding": null,
            "right": null,
            "top": null,
            "visibility": null,
            "width": null
          }
        },
        "3466a93af3fd4555bc6a3cb014c0a036": {
          "model_module": "@jupyter-widgets/controls",
          "model_name": "DescriptionStyleModel",
          "model_module_version": "1.5.0",
          "state": {
            "_model_module": "@jupyter-widgets/controls",
            "_model_module_version": "1.5.0",
            "_model_name": "DescriptionStyleModel",
            "_view_count": null,
            "_view_module": "@jupyter-widgets/base",
            "_view_module_version": "1.2.0",
            "_view_name": "StyleView",
            "description_width": ""
          }
        },
        "92b3ce8d4b224dfabf735a4132d2557f": {
          "model_module": "@jupyter-widgets/base",
          "model_name": "LayoutModel",
          "model_module_version": "1.2.0",
          "state": {
            "_model_module": "@jupyter-widgets/base",
            "_model_module_version": "1.2.0",
            "_model_name": "LayoutModel",
            "_view_count": null,
            "_view_module": "@jupyter-widgets/base",
            "_view_module_version": "1.2.0",
            "_view_name": "LayoutView",
            "align_content": null,
            "align_items": null,
            "align_self": null,
            "border": null,
            "bottom": null,
            "display": null,
            "flex": null,
            "flex_flow": null,
            "grid_area": null,
            "grid_auto_columns": null,
            "grid_auto_flow": null,
            "grid_auto_rows": null,
            "grid_column": null,
            "grid_gap": null,
            "grid_row": null,
            "grid_template_areas": null,
            "grid_template_columns": null,
            "grid_template_rows": null,
            "height": null,
            "justify_content": null,
            "justify_items": null,
            "left": null,
            "margin": null,
            "max_height": null,
            "max_width": null,
            "min_height": null,
            "min_width": null,
            "object_fit": null,
            "object_position": null,
            "order": null,
            "overflow": null,
            "overflow_x": null,
            "overflow_y": null,
            "padding": null,
            "right": null,
            "top": null,
            "visibility": null,
            "width": null
          }
        },
        "43a0a57d3c484b8d9a65aee3e8c0cb4c": {
          "model_module": "@jupyter-widgets/controls",
          "model_name": "ProgressStyleModel",
          "model_module_version": "1.5.0",
          "state": {
            "_model_module": "@jupyter-widgets/controls",
            "_model_module_version": "1.5.0",
            "_model_name": "ProgressStyleModel",
            "_view_count": null,
            "_view_module": "@jupyter-widgets/base",
            "_view_module_version": "1.2.0",
            "_view_name": "StyleView",
            "bar_color": null,
            "description_width": ""
          }
        },
        "e333ded9177446358e11f6d5721c376c": {
          "model_module": "@jupyter-widgets/base",
          "model_name": "LayoutModel",
          "model_module_version": "1.2.0",
          "state": {
            "_model_module": "@jupyter-widgets/base",
            "_model_module_version": "1.2.0",
            "_model_name": "LayoutModel",
            "_view_count": null,
            "_view_module": "@jupyter-widgets/base",
            "_view_module_version": "1.2.0",
            "_view_name": "LayoutView",
            "align_content": null,
            "align_items": null,
            "align_self": null,
            "border": null,
            "bottom": null,
            "display": null,
            "flex": null,
            "flex_flow": null,
            "grid_area": null,
            "grid_auto_columns": null,
            "grid_auto_flow": null,
            "grid_auto_rows": null,
            "grid_column": null,
            "grid_gap": null,
            "grid_row": null,
            "grid_template_areas": null,
            "grid_template_columns": null,
            "grid_template_rows": null,
            "height": null,
            "justify_content": null,
            "justify_items": null,
            "left": null,
            "margin": null,
            "max_height": null,
            "max_width": null,
            "min_height": null,
            "min_width": null,
            "object_fit": null,
            "object_position": null,
            "order": null,
            "overflow": null,
            "overflow_x": null,
            "overflow_y": null,
            "padding": null,
            "right": null,
            "top": null,
            "visibility": null,
            "width": null
          }
        },
        "5c2460c8989f40a7b7546fbb08d9412c": {
          "model_module": "@jupyter-widgets/controls",
          "model_name": "DescriptionStyleModel",
          "model_module_version": "1.5.0",
          "state": {
            "_model_module": "@jupyter-widgets/controls",
            "_model_module_version": "1.5.0",
            "_model_name": "DescriptionStyleModel",
            "_view_count": null,
            "_view_module": "@jupyter-widgets/base",
            "_view_module_version": "1.2.0",
            "_view_name": "StyleView",
            "description_width": ""
          }
        },
        "915adc89f9b54c2ba70e5e13829347db": {
          "model_module": "@jupyter-widgets/controls",
          "model_name": "HBoxModel",
          "model_module_version": "1.5.0",
          "state": {
            "_dom_classes": [],
            "_model_module": "@jupyter-widgets/controls",
            "_model_module_version": "1.5.0",
            "_model_name": "HBoxModel",
            "_view_count": null,
            "_view_module": "@jupyter-widgets/controls",
            "_view_module_version": "1.5.0",
            "_view_name": "HBoxView",
            "box_style": "",
            "children": [
              "IPY_MODEL_f17b64c84225491fb6d6011488eac1cd",
              "IPY_MODEL_9b82d9e6ecab41cebb46eda10a3de9b5",
              "IPY_MODEL_7099d10c650d4b45a31e03c4822c54fc"
            ],
            "layout": "IPY_MODEL_c30661b1b6d7498ebaadf9c537a8009d"
          }
        },
        "f17b64c84225491fb6d6011488eac1cd": {
          "model_module": "@jupyter-widgets/controls",
          "model_name": "HTMLModel",
          "model_module_version": "1.5.0",
          "state": {
            "_dom_classes": [],
            "_model_module": "@jupyter-widgets/controls",
            "_model_module_version": "1.5.0",
            "_model_name": "HTMLModel",
            "_view_count": null,
            "_view_module": "@jupyter-widgets/controls",
            "_view_module_version": "1.5.0",
            "_view_name": "HTMLView",
            "description": "",
            "description_tooltip": null,
            "layout": "IPY_MODEL_9681d36ba8984d289b3e7d4c92dcb2f2",
            "placeholder": "​",
            "style": "IPY_MODEL_79e90827e8a9479ca00614653549f6d2",
            "value": "Map: 100%"
          }
        },
        "9b82d9e6ecab41cebb46eda10a3de9b5": {
          "model_module": "@jupyter-widgets/controls",
          "model_name": "FloatProgressModel",
          "model_module_version": "1.5.0",
          "state": {
            "_dom_classes": [],
            "_model_module": "@jupyter-widgets/controls",
            "_model_module_version": "1.5.0",
            "_model_name": "FloatProgressModel",
            "_view_count": null,
            "_view_module": "@jupyter-widgets/controls",
            "_view_module_version": "1.5.0",
            "_view_name": "ProgressView",
            "bar_style": "success",
            "description": "",
            "description_tooltip": null,
            "layout": "IPY_MODEL_6ae1b71cae054a65a0e5b4e02c15d3df",
            "max": 5000,
            "min": 0,
            "orientation": "horizontal",
            "style": "IPY_MODEL_5b34cf6ebdce4d61ac2008a290ffe283",
            "value": 5000
          }
        },
        "7099d10c650d4b45a31e03c4822c54fc": {
          "model_module": "@jupyter-widgets/controls",
          "model_name": "HTMLModel",
          "model_module_version": "1.5.0",
          "state": {
            "_dom_classes": [],
            "_model_module": "@jupyter-widgets/controls",
            "_model_module_version": "1.5.0",
            "_model_name": "HTMLModel",
            "_view_count": null,
            "_view_module": "@jupyter-widgets/controls",
            "_view_module_version": "1.5.0",
            "_view_name": "HTMLView",
            "description": "",
            "description_tooltip": null,
            "layout": "IPY_MODEL_1f584ca2b94049e9bf008c6e1db4bdde",
            "placeholder": "​",
            "style": "IPY_MODEL_3627f24245504fe3ac258b0b6f8ba766",
            "value": " 5000/5000 [00:13&lt;00:00, 367.90 examples/s]"
          }
        },
        "c30661b1b6d7498ebaadf9c537a8009d": {
          "model_module": "@jupyter-widgets/base",
          "model_name": "LayoutModel",
          "model_module_version": "1.2.0",
          "state": {
            "_model_module": "@jupyter-widgets/base",
            "_model_module_version": "1.2.0",
            "_model_name": "LayoutModel",
            "_view_count": null,
            "_view_module": "@jupyter-widgets/base",
            "_view_module_version": "1.2.0",
            "_view_name": "LayoutView",
            "align_content": null,
            "align_items": null,
            "align_self": null,
            "border": null,
            "bottom": null,
            "display": null,
            "flex": null,
            "flex_flow": null,
            "grid_area": null,
            "grid_auto_columns": null,
            "grid_auto_flow": null,
            "grid_auto_rows": null,
            "grid_column": null,
            "grid_gap": null,
            "grid_row": null,
            "grid_template_areas": null,
            "grid_template_columns": null,
            "grid_template_rows": null,
            "height": null,
            "justify_content": null,
            "justify_items": null,
            "left": null,
            "margin": null,
            "max_height": null,
            "max_width": null,
            "min_height": null,
            "min_width": null,
            "object_fit": null,
            "object_position": null,
            "order": null,
            "overflow": null,
            "overflow_x": null,
            "overflow_y": null,
            "padding": null,
            "right": null,
            "top": null,
            "visibility": null,
            "width": null
          }
        },
        "9681d36ba8984d289b3e7d4c92dcb2f2": {
          "model_module": "@jupyter-widgets/base",
          "model_name": "LayoutModel",
          "model_module_version": "1.2.0",
          "state": {
            "_model_module": "@jupyter-widgets/base",
            "_model_module_version": "1.2.0",
            "_model_name": "LayoutModel",
            "_view_count": null,
            "_view_module": "@jupyter-widgets/base",
            "_view_module_version": "1.2.0",
            "_view_name": "LayoutView",
            "align_content": null,
            "align_items": null,
            "align_self": null,
            "border": null,
            "bottom": null,
            "display": null,
            "flex": null,
            "flex_flow": null,
            "grid_area": null,
            "grid_auto_columns": null,
            "grid_auto_flow": null,
            "grid_auto_rows": null,
            "grid_column": null,
            "grid_gap": null,
            "grid_row": null,
            "grid_template_areas": null,
            "grid_template_columns": null,
            "grid_template_rows": null,
            "height": null,
            "justify_content": null,
            "justify_items": null,
            "left": null,
            "margin": null,
            "max_height": null,
            "max_width": null,
            "min_height": null,
            "min_width": null,
            "object_fit": null,
            "object_position": null,
            "order": null,
            "overflow": null,
            "overflow_x": null,
            "overflow_y": null,
            "padding": null,
            "right": null,
            "top": null,
            "visibility": null,
            "width": null
          }
        },
        "79e90827e8a9479ca00614653549f6d2": {
          "model_module": "@jupyter-widgets/controls",
          "model_name": "DescriptionStyleModel",
          "model_module_version": "1.5.0",
          "state": {
            "_model_module": "@jupyter-widgets/controls",
            "_model_module_version": "1.5.0",
            "_model_name": "DescriptionStyleModel",
            "_view_count": null,
            "_view_module": "@jupyter-widgets/base",
            "_view_module_version": "1.2.0",
            "_view_name": "StyleView",
            "description_width": ""
          }
        },
        "6ae1b71cae054a65a0e5b4e02c15d3df": {
          "model_module": "@jupyter-widgets/base",
          "model_name": "LayoutModel",
          "model_module_version": "1.2.0",
          "state": {
            "_model_module": "@jupyter-widgets/base",
            "_model_module_version": "1.2.0",
            "_model_name": "LayoutModel",
            "_view_count": null,
            "_view_module": "@jupyter-widgets/base",
            "_view_module_version": "1.2.0",
            "_view_name": "LayoutView",
            "align_content": null,
            "align_items": null,
            "align_self": null,
            "border": null,
            "bottom": null,
            "display": null,
            "flex": null,
            "flex_flow": null,
            "grid_area": null,
            "grid_auto_columns": null,
            "grid_auto_flow": null,
            "grid_auto_rows": null,
            "grid_column": null,
            "grid_gap": null,
            "grid_row": null,
            "grid_template_areas": null,
            "grid_template_columns": null,
            "grid_template_rows": null,
            "height": null,
            "justify_content": null,
            "justify_items": null,
            "left": null,
            "margin": null,
            "max_height": null,
            "max_width": null,
            "min_height": null,
            "min_width": null,
            "object_fit": null,
            "object_position": null,
            "order": null,
            "overflow": null,
            "overflow_x": null,
            "overflow_y": null,
            "padding": null,
            "right": null,
            "top": null,
            "visibility": null,
            "width": null
          }
        },
        "5b34cf6ebdce4d61ac2008a290ffe283": {
          "model_module": "@jupyter-widgets/controls",
          "model_name": "ProgressStyleModel",
          "model_module_version": "1.5.0",
          "state": {
            "_model_module": "@jupyter-widgets/controls",
            "_model_module_version": "1.5.0",
            "_model_name": "ProgressStyleModel",
            "_view_count": null,
            "_view_module": "@jupyter-widgets/base",
            "_view_module_version": "1.2.0",
            "_view_name": "StyleView",
            "bar_color": null,
            "description_width": ""
          }
        },
        "1f584ca2b94049e9bf008c6e1db4bdde": {
          "model_module": "@jupyter-widgets/base",
          "model_name": "LayoutModel",
          "model_module_version": "1.2.0",
          "state": {
            "_model_module": "@jupyter-widgets/base",
            "_model_module_version": "1.2.0",
            "_model_name": "LayoutModel",
            "_view_count": null,
            "_view_module": "@jupyter-widgets/base",
            "_view_module_version": "1.2.0",
            "_view_name": "LayoutView",
            "align_content": null,
            "align_items": null,
            "align_self": null,
            "border": null,
            "bottom": null,
            "display": null,
            "flex": null,
            "flex_flow": null,
            "grid_area": null,
            "grid_auto_columns": null,
            "grid_auto_flow": null,
            "grid_auto_rows": null,
            "grid_column": null,
            "grid_gap": null,
            "grid_row": null,
            "grid_template_areas": null,
            "grid_template_columns": null,
            "grid_template_rows": null,
            "height": null,
            "justify_content": null,
            "justify_items": null,
            "left": null,
            "margin": null,
            "max_height": null,
            "max_width": null,
            "min_height": null,
            "min_width": null,
            "object_fit": null,
            "object_position": null,
            "order": null,
            "overflow": null,
            "overflow_x": null,
            "overflow_y": null,
            "padding": null,
            "right": null,
            "top": null,
            "visibility": null,
            "width": null
          }
        },
        "3627f24245504fe3ac258b0b6f8ba766": {
          "model_module": "@jupyter-widgets/controls",
          "model_name": "DescriptionStyleModel",
          "model_module_version": "1.5.0",
          "state": {
            "_model_module": "@jupyter-widgets/controls",
            "_model_module_version": "1.5.0",
            "_model_name": "DescriptionStyleModel",
            "_view_count": null,
            "_view_module": "@jupyter-widgets/base",
            "_view_module_version": "1.2.0",
            "_view_name": "StyleView",
            "description_width": ""
          }
        }
      }
    },
    "accelerator": "GPU"
  },
  "cells": [
    {
      "cell_type": "markdown",
      "metadata": {
        "id": "view-in-github",
        "colab_type": "text"
      },
      "source": [
        "<a href=\"https://colab.research.google.com/github/willwang171/march_madness_sentiment/blob/main/Final_Project_Main_Code_Models_Training.ipynb\" target=\"_parent\"><img src=\"https://colab.research.google.com/assets/colab-badge.svg\" alt=\"Open In Colab\"/></a>"
      ]
    },
    {
      "cell_type": "code",
      "source": [
        "import pandas as pd\n",
        "import numpy as np"
      ],
      "metadata": {
        "id": "zpCvJOylwLS9"
      },
      "execution_count": null,
      "outputs": []
    },
    {
      "cell_type": "markdown",
      "source": [
        "### Data"
      ],
      "metadata": {
        "id": "l2E6PcgBwMK3"
      }
    },
    {
      "cell_type": "code",
      "source": [
        "import random\n",
        "\n",
        "# Dictionary of team names with their variations\n",
        "team_keywords = {\n",
        "        'Alabama': ['alabama', 'crimson tide', 'bama', 'ua'],\n",
        "        'Houston': ['houston', 'cougars', 'uh'],\n",
        "        'Kansas': ['kansas', 'jayhawks', 'ku'],\n",
        "        'Purdue': ['purdue', 'boilermakers'],\n",
        "        'UCLA': ['ucla', 'bruins'],\n",
        "        'University of Texas': ['longhorns', 'ut'],\n",
        "        'Arizona': ['arizona', 'wildcats', 'u of a'],\n",
        "        'Marquette': ['marquette', 'golden eagles'],\n",
        "        'Baylor': ['baylor', 'bears'],\n",
        "        'Gonzaga': ['gonzaga', 'bulldogs', 'zags'],\n",
        "        'Kansas St.': ['kansas state', 'wildcats', 'ksu'],\n",
        "        'Xavier': ['xavier', 'musketeers'],\n",
        "        'UConn': ['uconn', 'huskies', 'connecticut'],\n",
        "        'Tennessee': ['tennessee', 'volunteers', 'vols'],\n",
        "        'Indiana': ['indiana', 'hoosiers'],\n",
        "        'Virginia': ['virginia', 'cavaliers', 'uva'],\n",
        "        'San Diego St.': ['san diego state', 'aztecs', 'sdsu', 'san diego'],\n",
        "        'Duke': ['duke', 'blue devils'],\n",
        "        'Saint Mary’s (CA)': ['saint mary\\'s', 'gaels', 'smc'],\n",
        "        'Miami (FL)': ['miami', 'hurricanes', 'the u', 'um'],\n",
        "        'Iowa St.': ['iowa state', 'cyclones', 'isu'],\n",
        "        'Creighton': ['creighton', 'bluejays'],\n",
        "        'Kentucky': ['kentucky', 'wildcats', 'uk'],\n",
        "        'TCU': ['tcu', 'horned frogs', 'texas christian'],\n",
        "        'Texas A&M': ['texas a&m', 'aggies'],\n",
        "        'Michigan St.': ['michigan state', 'spartans', 'msu'],\n",
        "        'Missouri': ['missouri', 'tigers', 'mizzou'],\n",
        "        'Northwestern': ['northwestern', 'wildcats', 'nu'],\n",
        "        'Memphis': ['memphis', 'tigers'],\n",
        "        'Arkansas': ['arkansas', 'razorbacks', 'hogs'],\n",
        "        'Maryland': ['maryland', 'terrapins', 'terps'],\n",
        "        'Iowa': ['iowa', 'hawkeyes'],\n",
        "        'Florida Atlantic': ['florida atlantic', 'owls', 'fau'],\n",
        "        'West Virginia': ['west virginia', 'mountaineers', 'wvu'],\n",
        "        'Auburn': ['auburn', 'tigers'],\n",
        "        'Illinois': ['illinois', 'fighting illini'],\n",
        "        'Boise State': ['boise state', 'broncos'],\n",
        "        'Penn State': ['penn state', 'nittany lions', 'psu'],\n",
        "        'USC': ['southern california', 'trojans', 'usc'],\n",
        "        'Utah State': ['utah state', 'aggies'],\n",
        "        'NC State': ['nc state', 'wolfpack'],\n",
        "        'Providence': ['providence', 'friars'],\n",
        "        'Mississippi State': ['mississippi state', 'bulldogs', 'msu'],\n",
        "        'Pittsburgh': ['pittsburgh', 'panthers', 'pitt'],\n",
        "        'Arizona State': ['arizona state', 'sun devils', 'asu'],\n",
        "        'Nevada': ['nevada', 'wolf pack'],\n",
        "        'College of Charleston': ['college of charleston', 'cougars'],\n",
        "        'Oral Roberts': ['oral roberts', 'golden eagles'],\n",
        "        'Drake': ['drake', 'bulldogs'],\n",
        "        'VCU': ['vcu', 'rams', 'virginia commonwealth'],\n",
        "        'Kent State': ['kent state', 'golden flashes'],\n",
        "        'Iowa': ['iowa', 'eagles'],\n",
        "        'Furman': ['furman', 'paladins'],\n",
        "        'Louisiana': ['louisiana', 'ragin' 'cajuns', 'ul lafayette'],\n",
        "        'Kennesaw State': ['kennesaw state', 'owls'],\n",
        "        'UC Santa Barbara': ['uc santa barbara', 'gauchos', 'ucsb'],\n",
        "        'Grand Canyon': ['grand canyon', 'antelopes', 'gcu'],\n",
        "        'Montana State': ['montana state', 'bobcats'],\n",
        "        'Vermont': ['vermont', 'catamounts'],\n",
        "        'Colgate': ['colgate', 'raiders'],\n",
        "        'Princeton': ['princeton', 'tigers'],\n",
        "        'UNC Asheville': ['unc asheville', 'bulldogs'],\n",
        "        'Northern Kentucky': ['northern kentucky', 'norse', 'nkU'],\n",
        "        'Howard': ['howard', 'bison'],\n",
        "        'A&M-Corpus Christi': ['texas a&m-corpus christi', 'islanders', 'a&m'],\n",
        "        'Texas Southern': ['texas southern', 'tigers', 'tsu'],\n",
        "        'Southeast Missouri State': ['southeast missouri state', 'redhawks', 'semo'],\n",
        "        'Fairleigh Dickinson': ['fairleigh dickinson', 'knights', 'fdu']\n",
        "\n",
        "    }"
      ],
      "metadata": {
        "id": "j9Ci8kLot4_2"
      },
      "execution_count": null,
      "outputs": []
    },
    {
      "cell_type": "code",
      "source": [
        "df = pd.read_csv(\"Cleaned_FINAL.csv\")"
      ],
      "metadata": {
        "id": "FNbRgaPmwWdN"
      },
      "execution_count": null,
      "outputs": []
    },
    {
      "cell_type": "markdown",
      "source": [
        "#### Generate Textual Dataset from Structued Dataset"
      ],
      "metadata": {
        "id": "tSmEEv9Ps9YP"
      }
    },
    {
      "cell_type": "code",
      "source": [
        "import pandas as pd\n",
        "chunk_size = 200000\n",
        "# Load the datasets\n",
        "teams = pd.read_csv('/content/MTeams.csv', usecols=['TeamID', 'TeamName'])\n",
        "compact_results = pd.read_csv('/content/MNCAATourneyCompactResults.csv')\n",
        "detailed_results = pd.read_csv('/content/MNCAATourneyDetailedResults.csv', chunksize=chunk_size, usecols=['Season', 'WTeamID', 'LTeamID'])\n",
        "rankings = pd.read_csv('/content/MMasseyOrdinals_thru_Season2023_Day128.csv', usecols=['Season', 'TeamID', 'OrdinalRank', 'RankingDayNum'])\n",
        "\n",
        "# Merge the team names into the results dataframes\n",
        "compact_results = compact_results.merge(teams, left_on='WTeamID', right_on='TeamID', how='left')\n",
        "compact_results.rename(columns={'TeamName': 'WTeamName'}, inplace=True)\n",
        "compact_results = compact_results.merge(teams, left_on='LTeamID', right_on='TeamID', how='left')\n",
        "compact_results.rename(columns={'TeamName': 'LTeamName'}, inplace=True)\n",
        "\n",
        "# Generate textual descriptions from structured data\n",
        "def create_description(row):\n",
        "    return f\"On {row['DayNum']}, {row['WTeamName']} defeated {row['LTeamName']} with a score of {row['WScore']}-{row['LScore']}.\"\n",
        "\n",
        "descriptions = compact_results.apply(create_description, axis=1)\n",
        "\n",
        "# Save or print the output\n",
        "print(descriptions.head())\n",
        "\n",
        "# Optionally, save to a file\n",
        "descriptions.to_csv('/content/game_descriptions.csv', index=False)"
      ],
      "metadata": {
        "id": "3PYQhetmrZB5"
      },
      "execution_count": null,
      "outputs": []
    },
    {
      "cell_type": "markdown",
      "source": [
        "### Generate Narrative Sentence for Historical Score Dataset(For Training BERT)"
      ],
      "metadata": {
        "id": "H0J9JTYd0xpQ"
      }
    },
    {
      "cell_type": "code",
      "source": [
        "import pandas as pd\n",
        "import gc\n",
        "\n",
        "def reduce_memory(df):\n",
        "    for c in df.columns:\n",
        "        if df[c].dtype == 'float64':\n",
        "            df[c] = pd.to_numeric(df[c], downcast='float')\n",
        "        elif df[c].dtype == 'int64':\n",
        "            df[c] = pd.to_numeric(df[c], downcast='integer')\n",
        "    return df\n",
        "\n",
        "max_ranking_day_num = rankings['RankingDayNum'].max()\n",
        "rankings_latest = rankings[rankings.RankingDayNum == max_ranking_day_num]\n",
        "rankings_latest = reduce_memory(rankings_latest)\n",
        "del rankings\n",
        "gc.collect()\n",
        "\n",
        "final_results = pd.DataFrame()\n",
        "\n",
        "for detailed_results in detailed_results:\n",
        "    detailed_results = reduce_memory(detailed_results)\n",
        "\n",
        "    # Merge team names\n",
        "    detailed_results = detailed_results.merge(teams, left_on='WTeamID', right_on='TeamID', how='left')\n",
        "    detailed_results.rename(columns={'TeamName': 'WTeamName'}, inplace=True)\n",
        "    detailed_results = detailed_results.merge(teams, left_on='LTeamID', right_on='TeamID', how='left', suffixes=('', '_L'))\n",
        "    detailed_results.rename(columns={'TeamName': 'LTeamName'}, inplace=True)\n",
        "\n",
        "    # Incorporate the latest rankings\n",
        "    detailed_results = detailed_results.merge(rankings_latest, left_on=['Season', 'WTeamID'], right_on=['Season', 'TeamID'], how='left')\n",
        "    detailed_results.rename(columns={'OrdinalRank': 'WTeamRank'}, inplace=True)\n",
        "    detailed_results = detailed_results.merge(rankings_latest, left_on=['Season', 'LTeamID'], right_on=['Season', 'TeamID'], how='left', suffixes=('', '_L'))\n",
        "    detailed_results.rename(columns={'OrdinalRank': 'LTeamRank'}, inplace=True)\n",
        "\n",
        "    # Create ranking descriptions\n",
        "    detailed_results['RankingDescription'] = (\n",
        "        \"In the latest rankings for the season \" + detailed_results['Season'].astype(str) +\n",
        "        \", \" + detailed_results['WTeamName'] + \" is ranked \" + detailed_results['WTeamRank'].astype(str) +\n",
        "        \" while \" + detailed_results['LTeamName'] + \" is ranked \" + detailed_results['LTeamRank'].astype(str) + \".\"\n",
        "    )\n",
        "\n",
        "    # Append to final results\n",
        "    final_results = pd.concat([final_results, detailed_results], ignore_index=True)\n",
        "\n",
        "    del detailed_results\n",
        "    gc.collect()\n",
        "\n",
        "final_results.to_csv('/content/historical_ranking_data.csv', index=False)\n"
      ],
      "metadata": {
        "colab": {
          "base_uri": "https://localhost:8080/"
        },
        "id": "LRRP7Rggwv2T",
        "outputId": "03227b22-b937-4337-df6c-aa0c1acad321"
      },
      "execution_count": null,
      "outputs": [
        {
          "output_type": "stream",
          "name": "stderr",
          "text": [
            "<ipython-input-25-c6c4f31aec0f>:9: SettingWithCopyWarning: \n",
            "A value is trying to be set on a copy of a slice from a DataFrame.\n",
            "Try using .loc[row_indexer,col_indexer] = value instead\n",
            "\n",
            "See the caveats in the documentation: https://pandas.pydata.org/pandas-docs/stable/user_guide/indexing.html#returning-a-view-versus-a-copy\n",
            "  df[c] = pd.to_numeric(df[c], downcast='integer')\n"
          ]
        }
      ]
    },
    {
      "cell_type": "markdown",
      "source": [
        "### Preprocessing"
      ],
      "metadata": {
        "id": "fMKPgYURwQ2n"
      }
    },
    {
      "cell_type": "code",
      "source": [
        "import pandas as pd\n",
        "import re\n",
        "import nltk\n",
        "from nltk.corpus import stopwords\n",
        "from nltk.tokenize import word_tokenize\n",
        "from nltk.stem import WordNetLemmatizer\n",
        "\n",
        "nltk.download('punkt')\n",
        "nltk.download('stopwords')\n",
        "nltk.download('wordnet')\n",
        "\n",
        "# Initialize lemmatizer and load stopwords\n",
        "lemmatizer = WordNetLemmatizer()\n",
        "stop_words = set(stopwords.words('english'))\n",
        "\n",
        "def clean_text(text):\n",
        "    if not isinstance(text, str):  # Check if the input is a string\n",
        "        return \"\"  # Return empty string if not\n",
        "\n",
        "    try:\n",
        "        # Convert to lowercase\n",
        "        text = text.lower()\n",
        "        # Remove URLs\n",
        "        text = re.sub(r'http\\S+|www\\S+|https\\S+', '', text, flags=re.MULTILINE)\n",
        "        # Remove special characters and numbers\n",
        "        text = re.sub(r'\\W+|\\d+', ' ', text)\n",
        "        # Tokenization\n",
        "        tokens = word_tokenize(text)\n",
        "        # Remove stopwords\n",
        "        tokens = [word for word in tokens if word not in stop_words]\n",
        "        # Lemmatization\n",
        "        tokens = [lemmatizer.lemmatize(word) for word in tokens]\n",
        "        # Joining tokens to form string again\n",
        "        return ' '.join(tokens)\n",
        "    except Exception as e:\n",
        "        print(\"Error cleaning text: \", e)\n",
        "        return \"\"\n",
        "\n",
        "# Check for NaN values\n",
        "df['Comment'] = df['Comment'].fillna('')\n",
        "\n",
        "# Apply the clean_text function to the 'Comment' column\n",
        "df['Cleaned_Comment'] = df['Comment'].apply(clean_text)\n",
        "\n",
        "df.head()\n"
      ],
      "metadata": {
        "id": "_v8vZPvk1-6Y",
        "colab": {
          "base_uri": "https://localhost:8080/",
          "height": 400
        },
        "outputId": "fc8fc112-8dfc-4ec0-fe8f-1d58b3084973"
      },
      "execution_count": null,
      "outputs": [
        {
          "output_type": "stream",
          "name": "stderr",
          "text": [
            "[nltk_data] Downloading package punkt to /root/nltk_data...\n",
            "[nltk_data]   Unzipping tokenizers/punkt.zip.\n",
            "[nltk_data] Downloading package stopwords to /root/nltk_data...\n",
            "[nltk_data]   Unzipping corpora/stopwords.zip.\n",
            "[nltk_data] Downloading package wordnet to /root/nltk_data...\n"
          ]
        },
        {
          "output_type": "execute_result",
          "data": {
            "text/plain": [
              "   Unnamed: 0                                            Comment  \\\n",
              "0           0  **Charity Event**\\n\\nIf your team won, you don...   \n",
              "1           1  SDSU Coach “I ran out of plays so I didn’t cal...   \n",
              "2           2  Box out and find the ball on your free throws ...   \n",
              "3           3  I love buzzer beaters so much when I'm neutral...   \n",
              "4           4  The legacy of the legendary and weird 2023 NCA...   \n",
              "\n",
              "            Author          Created UTC  \\\n",
              "0          rCBBMod  2023-04-02 00:36:57   \n",
              "1       20mcfadenr  2023-04-02 00:33:44   \n",
              "2        [deleted]  2023-04-02 00:33:19   \n",
              "3  dont_ask_my_cab  2023-04-02 00:33:25   \n",
              "4       Astroboyy7  2023-04-02 00:33:17   \n",
              "\n",
              "                                     Cleaned_Comment              Team  \n",
              "0  charity event team donate local food bank team...  Florida Atlantic  \n",
              "1             sdsu coach ran play call timeout lmfao     san diego st.  \n",
              "2                       box find ball free throw kid              none  \n",
              "3  love buzzer beater much neutral scared non bas...              none  \n",
              "4   legacy legendary weird ncaa tournament continues              none  "
            ],
            "text/html": [
              "\n",
              "  <div id=\"df-ca1bcb8c-8b9b-4993-9d78-e9cc35dbfded\" class=\"colab-df-container\">\n",
              "    <div>\n",
              "<style scoped>\n",
              "    .dataframe tbody tr th:only-of-type {\n",
              "        vertical-align: middle;\n",
              "    }\n",
              "\n",
              "    .dataframe tbody tr th {\n",
              "        vertical-align: top;\n",
              "    }\n",
              "\n",
              "    .dataframe thead th {\n",
              "        text-align: right;\n",
              "    }\n",
              "</style>\n",
              "<table border=\"1\" class=\"dataframe\">\n",
              "  <thead>\n",
              "    <tr style=\"text-align: right;\">\n",
              "      <th></th>\n",
              "      <th>Unnamed: 0</th>\n",
              "      <th>Comment</th>\n",
              "      <th>Author</th>\n",
              "      <th>Created UTC</th>\n",
              "      <th>Cleaned_Comment</th>\n",
              "      <th>Team</th>\n",
              "    </tr>\n",
              "  </thead>\n",
              "  <tbody>\n",
              "    <tr>\n",
              "      <th>0</th>\n",
              "      <td>0</td>\n",
              "      <td>**Charity Event**\\n\\nIf your team won, you don...</td>\n",
              "      <td>rCBBMod</td>\n",
              "      <td>2023-04-02 00:36:57</td>\n",
              "      <td>charity event team donate local food bank team...</td>\n",
              "      <td>Florida Atlantic</td>\n",
              "    </tr>\n",
              "    <tr>\n",
              "      <th>1</th>\n",
              "      <td>1</td>\n",
              "      <td>SDSU Coach “I ran out of plays so I didn’t cal...</td>\n",
              "      <td>20mcfadenr</td>\n",
              "      <td>2023-04-02 00:33:44</td>\n",
              "      <td>sdsu coach ran play call timeout lmfao</td>\n",
              "      <td>san diego st.</td>\n",
              "    </tr>\n",
              "    <tr>\n",
              "      <th>2</th>\n",
              "      <td>2</td>\n",
              "      <td>Box out and find the ball on your free throws ...</td>\n",
              "      <td>[deleted]</td>\n",
              "      <td>2023-04-02 00:33:19</td>\n",
              "      <td>box find ball free throw kid</td>\n",
              "      <td>none</td>\n",
              "    </tr>\n",
              "    <tr>\n",
              "      <th>3</th>\n",
              "      <td>3</td>\n",
              "      <td>I love buzzer beaters so much when I'm neutral...</td>\n",
              "      <td>dont_ask_my_cab</td>\n",
              "      <td>2023-04-02 00:33:25</td>\n",
              "      <td>love buzzer beater much neutral scared non bas...</td>\n",
              "      <td>none</td>\n",
              "    </tr>\n",
              "    <tr>\n",
              "      <th>4</th>\n",
              "      <td>4</td>\n",
              "      <td>The legacy of the legendary and weird 2023 NCA...</td>\n",
              "      <td>Astroboyy7</td>\n",
              "      <td>2023-04-02 00:33:17</td>\n",
              "      <td>legacy legendary weird ncaa tournament continues</td>\n",
              "      <td>none</td>\n",
              "    </tr>\n",
              "  </tbody>\n",
              "</table>\n",
              "</div>\n",
              "    <div class=\"colab-df-buttons\">\n",
              "\n",
              "  <div class=\"colab-df-container\">\n",
              "    <button class=\"colab-df-convert\" onclick=\"convertToInteractive('df-ca1bcb8c-8b9b-4993-9d78-e9cc35dbfded')\"\n",
              "            title=\"Convert this dataframe to an interactive table.\"\n",
              "            style=\"display:none;\">\n",
              "\n",
              "  <svg xmlns=\"http://www.w3.org/2000/svg\" height=\"24px\" viewBox=\"0 -960 960 960\">\n",
              "    <path d=\"M120-120v-720h720v720H120Zm60-500h600v-160H180v160Zm220 220h160v-160H400v160Zm0 220h160v-160H400v160ZM180-400h160v-160H180v160Zm440 0h160v-160H620v160ZM180-180h160v-160H180v160Zm440 0h160v-160H620v160Z\"/>\n",
              "  </svg>\n",
              "    </button>\n",
              "\n",
              "  <style>\n",
              "    .colab-df-container {\n",
              "      display:flex;\n",
              "      gap: 12px;\n",
              "    }\n",
              "\n",
              "    .colab-df-convert {\n",
              "      background-color: #E8F0FE;\n",
              "      border: none;\n",
              "      border-radius: 50%;\n",
              "      cursor: pointer;\n",
              "      display: none;\n",
              "      fill: #1967D2;\n",
              "      height: 32px;\n",
              "      padding: 0 0 0 0;\n",
              "      width: 32px;\n",
              "    }\n",
              "\n",
              "    .colab-df-convert:hover {\n",
              "      background-color: #E2EBFA;\n",
              "      box-shadow: 0px 1px 2px rgba(60, 64, 67, 0.3), 0px 1px 3px 1px rgba(60, 64, 67, 0.15);\n",
              "      fill: #174EA6;\n",
              "    }\n",
              "\n",
              "    .colab-df-buttons div {\n",
              "      margin-bottom: 4px;\n",
              "    }\n",
              "\n",
              "    [theme=dark] .colab-df-convert {\n",
              "      background-color: #3B4455;\n",
              "      fill: #D2E3FC;\n",
              "    }\n",
              "\n",
              "    [theme=dark] .colab-df-convert:hover {\n",
              "      background-color: #434B5C;\n",
              "      box-shadow: 0px 1px 3px 1px rgba(0, 0, 0, 0.15);\n",
              "      filter: drop-shadow(0px 1px 2px rgba(0, 0, 0, 0.3));\n",
              "      fill: #FFFFFF;\n",
              "    }\n",
              "  </style>\n",
              "\n",
              "    <script>\n",
              "      const buttonEl =\n",
              "        document.querySelector('#df-ca1bcb8c-8b9b-4993-9d78-e9cc35dbfded button.colab-df-convert');\n",
              "      buttonEl.style.display =\n",
              "        google.colab.kernel.accessAllowed ? 'block' : 'none';\n",
              "\n",
              "      async function convertToInteractive(key) {\n",
              "        const element = document.querySelector('#df-ca1bcb8c-8b9b-4993-9d78-e9cc35dbfded');\n",
              "        const dataTable =\n",
              "          await google.colab.kernel.invokeFunction('convertToInteractive',\n",
              "                                                    [key], {});\n",
              "        if (!dataTable) return;\n",
              "\n",
              "        const docLinkHtml = 'Like what you see? Visit the ' +\n",
              "          '<a target=\"_blank\" href=https://colab.research.google.com/notebooks/data_table.ipynb>data table notebook</a>'\n",
              "          + ' to learn more about interactive tables.';\n",
              "        element.innerHTML = '';\n",
              "        dataTable['output_type'] = 'display_data';\n",
              "        await google.colab.output.renderOutput(dataTable, element);\n",
              "        const docLink = document.createElement('div');\n",
              "        docLink.innerHTML = docLinkHtml;\n",
              "        element.appendChild(docLink);\n",
              "      }\n",
              "    </script>\n",
              "  </div>\n",
              "\n",
              "\n",
              "<div id=\"df-08667202-c4e9-41f8-b2c6-01c3918fddea\">\n",
              "  <button class=\"colab-df-quickchart\" onclick=\"quickchart('df-08667202-c4e9-41f8-b2c6-01c3918fddea')\"\n",
              "            title=\"Suggest charts\"\n",
              "            style=\"display:none;\">\n",
              "\n",
              "<svg xmlns=\"http://www.w3.org/2000/svg\" height=\"24px\"viewBox=\"0 0 24 24\"\n",
              "     width=\"24px\">\n",
              "    <g>\n",
              "        <path d=\"M19 3H5c-1.1 0-2 .9-2 2v14c0 1.1.9 2 2 2h14c1.1 0 2-.9 2-2V5c0-1.1-.9-2-2-2zM9 17H7v-7h2v7zm4 0h-2V7h2v10zm4 0h-2v-4h2v4z\"/>\n",
              "    </g>\n",
              "</svg>\n",
              "  </button>\n",
              "\n",
              "<style>\n",
              "  .colab-df-quickchart {\n",
              "      --bg-color: #E8F0FE;\n",
              "      --fill-color: #1967D2;\n",
              "      --hover-bg-color: #E2EBFA;\n",
              "      --hover-fill-color: #174EA6;\n",
              "      --disabled-fill-color: #AAA;\n",
              "      --disabled-bg-color: #DDD;\n",
              "  }\n",
              "\n",
              "  [theme=dark] .colab-df-quickchart {\n",
              "      --bg-color: #3B4455;\n",
              "      --fill-color: #D2E3FC;\n",
              "      --hover-bg-color: #434B5C;\n",
              "      --hover-fill-color: #FFFFFF;\n",
              "      --disabled-bg-color: #3B4455;\n",
              "      --disabled-fill-color: #666;\n",
              "  }\n",
              "\n",
              "  .colab-df-quickchart {\n",
              "    background-color: var(--bg-color);\n",
              "    border: none;\n",
              "    border-radius: 50%;\n",
              "    cursor: pointer;\n",
              "    display: none;\n",
              "    fill: var(--fill-color);\n",
              "    height: 32px;\n",
              "    padding: 0;\n",
              "    width: 32px;\n",
              "  }\n",
              "\n",
              "  .colab-df-quickchart:hover {\n",
              "    background-color: var(--hover-bg-color);\n",
              "    box-shadow: 0 1px 2px rgba(60, 64, 67, 0.3), 0 1px 3px 1px rgba(60, 64, 67, 0.15);\n",
              "    fill: var(--button-hover-fill-color);\n",
              "  }\n",
              "\n",
              "  .colab-df-quickchart-complete:disabled,\n",
              "  .colab-df-quickchart-complete:disabled:hover {\n",
              "    background-color: var(--disabled-bg-color);\n",
              "    fill: var(--disabled-fill-color);\n",
              "    box-shadow: none;\n",
              "  }\n",
              "\n",
              "  .colab-df-spinner {\n",
              "    border: 2px solid var(--fill-color);\n",
              "    border-color: transparent;\n",
              "    border-bottom-color: var(--fill-color);\n",
              "    animation:\n",
              "      spin 1s steps(1) infinite;\n",
              "  }\n",
              "\n",
              "  @keyframes spin {\n",
              "    0% {\n",
              "      border-color: transparent;\n",
              "      border-bottom-color: var(--fill-color);\n",
              "      border-left-color: var(--fill-color);\n",
              "    }\n",
              "    20% {\n",
              "      border-color: transparent;\n",
              "      border-left-color: var(--fill-color);\n",
              "      border-top-color: var(--fill-color);\n",
              "    }\n",
              "    30% {\n",
              "      border-color: transparent;\n",
              "      border-left-color: var(--fill-color);\n",
              "      border-top-color: var(--fill-color);\n",
              "      border-right-color: var(--fill-color);\n",
              "    }\n",
              "    40% {\n",
              "      border-color: transparent;\n",
              "      border-right-color: var(--fill-color);\n",
              "      border-top-color: var(--fill-color);\n",
              "    }\n",
              "    60% {\n",
              "      border-color: transparent;\n",
              "      border-right-color: var(--fill-color);\n",
              "    }\n",
              "    80% {\n",
              "      border-color: transparent;\n",
              "      border-right-color: var(--fill-color);\n",
              "      border-bottom-color: var(--fill-color);\n",
              "    }\n",
              "    90% {\n",
              "      border-color: transparent;\n",
              "      border-bottom-color: var(--fill-color);\n",
              "    }\n",
              "  }\n",
              "</style>\n",
              "\n",
              "  <script>\n",
              "    async function quickchart(key) {\n",
              "      const quickchartButtonEl =\n",
              "        document.querySelector('#' + key + ' button');\n",
              "      quickchartButtonEl.disabled = true;  // To prevent multiple clicks.\n",
              "      quickchartButtonEl.classList.add('colab-df-spinner');\n",
              "      try {\n",
              "        const charts = await google.colab.kernel.invokeFunction(\n",
              "            'suggestCharts', [key], {});\n",
              "      } catch (error) {\n",
              "        console.error('Error during call to suggestCharts:', error);\n",
              "      }\n",
              "      quickchartButtonEl.classList.remove('colab-df-spinner');\n",
              "      quickchartButtonEl.classList.add('colab-df-quickchart-complete');\n",
              "    }\n",
              "    (() => {\n",
              "      let quickchartButtonEl =\n",
              "        document.querySelector('#df-08667202-c4e9-41f8-b2c6-01c3918fddea button');\n",
              "      quickchartButtonEl.style.display =\n",
              "        google.colab.kernel.accessAllowed ? 'block' : 'none';\n",
              "    })();\n",
              "  </script>\n",
              "</div>\n",
              "\n",
              "    </div>\n",
              "  </div>\n"
            ],
            "application/vnd.google.colaboratory.intrinsic+json": {
              "type": "dataframe",
              "variable_name": "df",
              "summary": "{\n  \"name\": \"df\",\n  \"rows\": 1194,\n  \"fields\": [\n    {\n      \"column\": \"Unnamed: 0\",\n      \"properties\": {\n        \"dtype\": \"number\",\n        \"std\": 344,\n        \"min\": 0,\n        \"max\": 1193,\n        \"num_unique_values\": 1194,\n        \"samples\": [\n          533,\n          618,\n          671\n        ],\n        \"semantic_type\": \"\",\n        \"description\": \"\"\n      }\n    },\n    {\n      \"column\": \"Comment\",\n      \"properties\": {\n        \"dtype\": \"string\",\n        \"num_unique_values\": 1162,\n        \"samples\": [\n          \"FAU played 5 vs. 8\",\n          \"Kudos to Dutcher for not fouling and trusting his squad to get one more stop. He was rewarded for that trust.\",\n          \"The refs were super whistle happy on both ends which ruined the flow of the game. We got a lot of calls at the end for sure but they got a bunch in the 1st half and in the beginning of the 2nd half. I\\u2019m biased so take this as you will\"\n        ],\n        \"semantic_type\": \"\",\n        \"description\": \"\"\n      }\n    },\n    {\n      \"column\": \"Author\",\n      \"properties\": {\n        \"dtype\": \"string\",\n        \"num_unique_values\": 655,\n        \"samples\": [\n          \"Electrical_Signal517\",\n          \"EctoRiddler\",\n          \"NotOSIsdormmole\"\n        ],\n        \"semantic_type\": \"\",\n        \"description\": \"\"\n      }\n    },\n    {\n      \"column\": \"Created UTC\",\n      \"properties\": {\n        \"dtype\": \"object\",\n        \"num_unique_values\": 1005,\n        \"samples\": [\n          \"2023-04-02 00:42:43\",\n          \"2023-04-02 01:45:00\",\n          \"2023-04-02 01:17:31\"\n        ],\n        \"semantic_type\": \"\",\n        \"description\": \"\"\n      }\n    },\n    {\n      \"column\": \"Cleaned_Comment\",\n      \"properties\": {\n        \"dtype\": \"string\",\n        \"num_unique_values\": 1134,\n        \"samples\": [\n          \"lol anyone sd afford pay double anything\",\n          \"yep anybody bitching ref fau smart man\",\n          \"awesome would even funny imo missed shot still said\"\n        ],\n        \"semantic_type\": \"\",\n        \"description\": \"\"\n      }\n    },\n    {\n      \"column\": \"Team\",\n      \"properties\": {\n        \"dtype\": \"category\",\n        \"num_unique_values\": 80,\n        \"samples\": [\n          \"unc\",\n          \"Florida Atlantic\",\n          \"texas tech\"\n        ],\n        \"semantic_type\": \"\",\n        \"description\": \"\"\n      }\n    }\n  ]\n}"
            }
          },
          "metadata": {},
          "execution_count": 7
        }
      ]
    },
    {
      "cell_type": "markdown",
      "source": [
        "### 1. GPT team assignment\n"
      ],
      "metadata": {
        "id": "iP5xpayRjiZG"
      }
    },
    {
      "cell_type": "code",
      "source": [
        "import requests\n",
        "\n",
        "def query_openai(prompt):\n",
        "    api_key = #Hidden\n",
        "    headers = {\n",
        "        'Authorization': f'Bearer {api_key}',\n",
        "        'Content-Type': 'application/json',\n",
        "    }\n",
        "\n",
        "    data = {\n",
        "        'model': 'gpt-3.5-turbo',\n",
        "        'messages': [\n",
        "            {\"role\": \"user\", \"content\": prompt}\n",
        "        ],\n",
        "        'max_tokens': 100\n",
        "    }\n",
        "\n",
        "    response = requests.post('https://api.openai.com/v1/chat/completions', headers=headers, json=data)\n",
        "    return response.json()"
      ],
      "metadata": {
        "id": "tMxZh2B5jnYp"
      },
      "execution_count": null,
      "outputs": []
    },
    {
      "cell_type": "code",
      "source": [
        "df"
      ],
      "metadata": {
        "colab": {
          "base_uri": "https://localhost:8080/",
          "height": 806
        },
        "id": "VFBAcJoYoIGN",
        "outputId": "0dd53f2a-24ce-4b3a-8baa-7eae2af1f5c1"
      },
      "execution_count": null,
      "outputs": [
        {
          "output_type": "execute_result",
          "data": {
            "text/plain": [
              "                                                Comment                Author  \\\n",
              "0     **Charity Event**\\n\\nIf your team won, you don...               rCBBMod   \n",
              "1     SDSU Coach “I ran out of plays so I didn’t cal...            20mcfadenr   \n",
              "2     Box out and find the ball on your free throws ...             [deleted]   \n",
              "3     I love buzzer beaters so much when I'm neutral...       dont_ask_my_cab   \n",
              "4     The legacy of the legendary and weird 2023 NCA...            Astroboyy7   \n",
              "...                                                 ...                   ...   \n",
              "1189  Okay you’re just dumb and not reading apparent...  Sufficient_Memory_24   \n",
              "1190  As a wise man once said:\\nGloom, despair, and ...           KMorris1987   \n",
              "1191  > i also think the B1G is about to reverse cou...             [deleted]   \n",
              "1192  I could only imagine how anyone else ended up ...          Alexlsonflre   \n",
              "1193  Oh damn! I’m born a UConn fan and grew up goin...             [deleted]   \n",
              "\n",
              "              Created UTC                                    Cleaned_Comment  \n",
              "0     2023-04-02 00:36:57  charity event team donate local food bank team...  \n",
              "1     2023-04-02 00:33:44             sdsu coach ran play call timeout lmfao  \n",
              "2     2023-04-02 00:33:19                       box find ball free throw kid  \n",
              "3     2023-04-02 00:33:25  love buzzer beater much neutral scared non bas...  \n",
              "4     2023-04-02 00:33:17   legacy legendary weird ncaa tournament continues  \n",
              "...                   ...                                                ...  \n",
              "1189  2023-04-02 01:16:35  okay dumb reading apparently loser mentality n...  \n",
              "1190  2023-04-02 01:54:43                  wise man said gloom despair agony  \n",
              "1191  2023-04-02 00:49:40  also think b g reverse course rutgers national...  \n",
              "1192  2023-04-02 05:23:04  could imagine anyone else ended team born vfl ...  \n",
              "1193  2023-04-02 05:36:03  oh damn born uconn fan grew going see uconn te...  \n",
              "\n",
              "[1194 rows x 4 columns]"
            ],
            "text/html": [
              "\n",
              "  <div id=\"df-299f4157-da94-4f16-86c7-a2ff7687ca70\" class=\"colab-df-container\">\n",
              "    <div>\n",
              "<style scoped>\n",
              "    .dataframe tbody tr th:only-of-type {\n",
              "        vertical-align: middle;\n",
              "    }\n",
              "\n",
              "    .dataframe tbody tr th {\n",
              "        vertical-align: top;\n",
              "    }\n",
              "\n",
              "    .dataframe thead th {\n",
              "        text-align: right;\n",
              "    }\n",
              "</style>\n",
              "<table border=\"1\" class=\"dataframe\">\n",
              "  <thead>\n",
              "    <tr style=\"text-align: right;\">\n",
              "      <th></th>\n",
              "      <th>Comment</th>\n",
              "      <th>Author</th>\n",
              "      <th>Created UTC</th>\n",
              "      <th>Cleaned_Comment</th>\n",
              "    </tr>\n",
              "  </thead>\n",
              "  <tbody>\n",
              "    <tr>\n",
              "      <th>0</th>\n",
              "      <td>**Charity Event**\\n\\nIf your team won, you don...</td>\n",
              "      <td>rCBBMod</td>\n",
              "      <td>2023-04-02 00:36:57</td>\n",
              "      <td>charity event team donate local food bank team...</td>\n",
              "    </tr>\n",
              "    <tr>\n",
              "      <th>1</th>\n",
              "      <td>SDSU Coach “I ran out of plays so I didn’t cal...</td>\n",
              "      <td>20mcfadenr</td>\n",
              "      <td>2023-04-02 00:33:44</td>\n",
              "      <td>sdsu coach ran play call timeout lmfao</td>\n",
              "    </tr>\n",
              "    <tr>\n",
              "      <th>2</th>\n",
              "      <td>Box out and find the ball on your free throws ...</td>\n",
              "      <td>[deleted]</td>\n",
              "      <td>2023-04-02 00:33:19</td>\n",
              "      <td>box find ball free throw kid</td>\n",
              "    </tr>\n",
              "    <tr>\n",
              "      <th>3</th>\n",
              "      <td>I love buzzer beaters so much when I'm neutral...</td>\n",
              "      <td>dont_ask_my_cab</td>\n",
              "      <td>2023-04-02 00:33:25</td>\n",
              "      <td>love buzzer beater much neutral scared non bas...</td>\n",
              "    </tr>\n",
              "    <tr>\n",
              "      <th>4</th>\n",
              "      <td>The legacy of the legendary and weird 2023 NCA...</td>\n",
              "      <td>Astroboyy7</td>\n",
              "      <td>2023-04-02 00:33:17</td>\n",
              "      <td>legacy legendary weird ncaa tournament continues</td>\n",
              "    </tr>\n",
              "    <tr>\n",
              "      <th>...</th>\n",
              "      <td>...</td>\n",
              "      <td>...</td>\n",
              "      <td>...</td>\n",
              "      <td>...</td>\n",
              "    </tr>\n",
              "    <tr>\n",
              "      <th>1189</th>\n",
              "      <td>Okay you’re just dumb and not reading apparent...</td>\n",
              "      <td>Sufficient_Memory_24</td>\n",
              "      <td>2023-04-02 01:16:35</td>\n",
              "      <td>okay dumb reading apparently loser mentality n...</td>\n",
              "    </tr>\n",
              "    <tr>\n",
              "      <th>1190</th>\n",
              "      <td>As a wise man once said:\\nGloom, despair, and ...</td>\n",
              "      <td>KMorris1987</td>\n",
              "      <td>2023-04-02 01:54:43</td>\n",
              "      <td>wise man said gloom despair agony</td>\n",
              "    </tr>\n",
              "    <tr>\n",
              "      <th>1191</th>\n",
              "      <td>&gt; i also think the B1G is about to reverse cou...</td>\n",
              "      <td>[deleted]</td>\n",
              "      <td>2023-04-02 00:49:40</td>\n",
              "      <td>also think b g reverse course rutgers national...</td>\n",
              "    </tr>\n",
              "    <tr>\n",
              "      <th>1192</th>\n",
              "      <td>I could only imagine how anyone else ended up ...</td>\n",
              "      <td>Alexlsonflre</td>\n",
              "      <td>2023-04-02 05:23:04</td>\n",
              "      <td>could imagine anyone else ended team born vfl ...</td>\n",
              "    </tr>\n",
              "    <tr>\n",
              "      <th>1193</th>\n",
              "      <td>Oh damn! I’m born a UConn fan and grew up goin...</td>\n",
              "      <td>[deleted]</td>\n",
              "      <td>2023-04-02 05:36:03</td>\n",
              "      <td>oh damn born uconn fan grew going see uconn te...</td>\n",
              "    </tr>\n",
              "  </tbody>\n",
              "</table>\n",
              "<p>1194 rows × 4 columns</p>\n",
              "</div>\n",
              "    <div class=\"colab-df-buttons\">\n",
              "\n",
              "  <div class=\"colab-df-container\">\n",
              "    <button class=\"colab-df-convert\" onclick=\"convertToInteractive('df-299f4157-da94-4f16-86c7-a2ff7687ca70')\"\n",
              "            title=\"Convert this dataframe to an interactive table.\"\n",
              "            style=\"display:none;\">\n",
              "\n",
              "  <svg xmlns=\"http://www.w3.org/2000/svg\" height=\"24px\" viewBox=\"0 -960 960 960\">\n",
              "    <path d=\"M120-120v-720h720v720H120Zm60-500h600v-160H180v160Zm220 220h160v-160H400v160Zm0 220h160v-160H400v160ZM180-400h160v-160H180v160Zm440 0h160v-160H620v160ZM180-180h160v-160H180v160Zm440 0h160v-160H620v160Z\"/>\n",
              "  </svg>\n",
              "    </button>\n",
              "\n",
              "  <style>\n",
              "    .colab-df-container {\n",
              "      display:flex;\n",
              "      gap: 12px;\n",
              "    }\n",
              "\n",
              "    .colab-df-convert {\n",
              "      background-color: #E8F0FE;\n",
              "      border: none;\n",
              "      border-radius: 50%;\n",
              "      cursor: pointer;\n",
              "      display: none;\n",
              "      fill: #1967D2;\n",
              "      height: 32px;\n",
              "      padding: 0 0 0 0;\n",
              "      width: 32px;\n",
              "    }\n",
              "\n",
              "    .colab-df-convert:hover {\n",
              "      background-color: #E2EBFA;\n",
              "      box-shadow: 0px 1px 2px rgba(60, 64, 67, 0.3), 0px 1px 3px 1px rgba(60, 64, 67, 0.15);\n",
              "      fill: #174EA6;\n",
              "    }\n",
              "\n",
              "    .colab-df-buttons div {\n",
              "      margin-bottom: 4px;\n",
              "    }\n",
              "\n",
              "    [theme=dark] .colab-df-convert {\n",
              "      background-color: #3B4455;\n",
              "      fill: #D2E3FC;\n",
              "    }\n",
              "\n",
              "    [theme=dark] .colab-df-convert:hover {\n",
              "      background-color: #434B5C;\n",
              "      box-shadow: 0px 1px 3px 1px rgba(0, 0, 0, 0.15);\n",
              "      filter: drop-shadow(0px 1px 2px rgba(0, 0, 0, 0.3));\n",
              "      fill: #FFFFFF;\n",
              "    }\n",
              "  </style>\n",
              "\n",
              "    <script>\n",
              "      const buttonEl =\n",
              "        document.querySelector('#df-299f4157-da94-4f16-86c7-a2ff7687ca70 button.colab-df-convert');\n",
              "      buttonEl.style.display =\n",
              "        google.colab.kernel.accessAllowed ? 'block' : 'none';\n",
              "\n",
              "      async function convertToInteractive(key) {\n",
              "        const element = document.querySelector('#df-299f4157-da94-4f16-86c7-a2ff7687ca70');\n",
              "        const dataTable =\n",
              "          await google.colab.kernel.invokeFunction('convertToInteractive',\n",
              "                                                    [key], {});\n",
              "        if (!dataTable) return;\n",
              "\n",
              "        const docLinkHtml = 'Like what you see? Visit the ' +\n",
              "          '<a target=\"_blank\" href=https://colab.research.google.com/notebooks/data_table.ipynb>data table notebook</a>'\n",
              "          + ' to learn more about interactive tables.';\n",
              "        element.innerHTML = '';\n",
              "        dataTable['output_type'] = 'display_data';\n",
              "        await google.colab.output.renderOutput(dataTable, element);\n",
              "        const docLink = document.createElement('div');\n",
              "        docLink.innerHTML = docLinkHtml;\n",
              "        element.appendChild(docLink);\n",
              "      }\n",
              "    </script>\n",
              "  </div>\n",
              "\n",
              "\n",
              "<div id=\"df-d5bfc636-60ab-4b68-a231-0ad60b5f85d6\">\n",
              "  <button class=\"colab-df-quickchart\" onclick=\"quickchart('df-d5bfc636-60ab-4b68-a231-0ad60b5f85d6')\"\n",
              "            title=\"Suggest charts\"\n",
              "            style=\"display:none;\">\n",
              "\n",
              "<svg xmlns=\"http://www.w3.org/2000/svg\" height=\"24px\"viewBox=\"0 0 24 24\"\n",
              "     width=\"24px\">\n",
              "    <g>\n",
              "        <path d=\"M19 3H5c-1.1 0-2 .9-2 2v14c0 1.1.9 2 2 2h14c1.1 0 2-.9 2-2V5c0-1.1-.9-2-2-2zM9 17H7v-7h2v7zm4 0h-2V7h2v10zm4 0h-2v-4h2v4z\"/>\n",
              "    </g>\n",
              "</svg>\n",
              "  </button>\n",
              "\n",
              "<style>\n",
              "  .colab-df-quickchart {\n",
              "      --bg-color: #E8F0FE;\n",
              "      --fill-color: #1967D2;\n",
              "      --hover-bg-color: #E2EBFA;\n",
              "      --hover-fill-color: #174EA6;\n",
              "      --disabled-fill-color: #AAA;\n",
              "      --disabled-bg-color: #DDD;\n",
              "  }\n",
              "\n",
              "  [theme=dark] .colab-df-quickchart {\n",
              "      --bg-color: #3B4455;\n",
              "      --fill-color: #D2E3FC;\n",
              "      --hover-bg-color: #434B5C;\n",
              "      --hover-fill-color: #FFFFFF;\n",
              "      --disabled-bg-color: #3B4455;\n",
              "      --disabled-fill-color: #666;\n",
              "  }\n",
              "\n",
              "  .colab-df-quickchart {\n",
              "    background-color: var(--bg-color);\n",
              "    border: none;\n",
              "    border-radius: 50%;\n",
              "    cursor: pointer;\n",
              "    display: none;\n",
              "    fill: var(--fill-color);\n",
              "    height: 32px;\n",
              "    padding: 0;\n",
              "    width: 32px;\n",
              "  }\n",
              "\n",
              "  .colab-df-quickchart:hover {\n",
              "    background-color: var(--hover-bg-color);\n",
              "    box-shadow: 0 1px 2px rgba(60, 64, 67, 0.3), 0 1px 3px 1px rgba(60, 64, 67, 0.15);\n",
              "    fill: var(--button-hover-fill-color);\n",
              "  }\n",
              "\n",
              "  .colab-df-quickchart-complete:disabled,\n",
              "  .colab-df-quickchart-complete:disabled:hover {\n",
              "    background-color: var(--disabled-bg-color);\n",
              "    fill: var(--disabled-fill-color);\n",
              "    box-shadow: none;\n",
              "  }\n",
              "\n",
              "  .colab-df-spinner {\n",
              "    border: 2px solid var(--fill-color);\n",
              "    border-color: transparent;\n",
              "    border-bottom-color: var(--fill-color);\n",
              "    animation:\n",
              "      spin 1s steps(1) infinite;\n",
              "  }\n",
              "\n",
              "  @keyframes spin {\n",
              "    0% {\n",
              "      border-color: transparent;\n",
              "      border-bottom-color: var(--fill-color);\n",
              "      border-left-color: var(--fill-color);\n",
              "    }\n",
              "    20% {\n",
              "      border-color: transparent;\n",
              "      border-left-color: var(--fill-color);\n",
              "      border-top-color: var(--fill-color);\n",
              "    }\n",
              "    30% {\n",
              "      border-color: transparent;\n",
              "      border-left-color: var(--fill-color);\n",
              "      border-top-color: var(--fill-color);\n",
              "      border-right-color: var(--fill-color);\n",
              "    }\n",
              "    40% {\n",
              "      border-color: transparent;\n",
              "      border-right-color: var(--fill-color);\n",
              "      border-top-color: var(--fill-color);\n",
              "    }\n",
              "    60% {\n",
              "      border-color: transparent;\n",
              "      border-right-color: var(--fill-color);\n",
              "    }\n",
              "    80% {\n",
              "      border-color: transparent;\n",
              "      border-right-color: var(--fill-color);\n",
              "      border-bottom-color: var(--fill-color);\n",
              "    }\n",
              "    90% {\n",
              "      border-color: transparent;\n",
              "      border-bottom-color: var(--fill-color);\n",
              "    }\n",
              "  }\n",
              "</style>\n",
              "\n",
              "  <script>\n",
              "    async function quickchart(key) {\n",
              "      const quickchartButtonEl =\n",
              "        document.querySelector('#' + key + ' button');\n",
              "      quickchartButtonEl.disabled = true;  // To prevent multiple clicks.\n",
              "      quickchartButtonEl.classList.add('colab-df-spinner');\n",
              "      try {\n",
              "        const charts = await google.colab.kernel.invokeFunction(\n",
              "            'suggestCharts', [key], {});\n",
              "      } catch (error) {\n",
              "        console.error('Error during call to suggestCharts:', error);\n",
              "      }\n",
              "      quickchartButtonEl.classList.remove('colab-df-spinner');\n",
              "      quickchartButtonEl.classList.add('colab-df-quickchart-complete');\n",
              "    }\n",
              "    (() => {\n",
              "      let quickchartButtonEl =\n",
              "        document.querySelector('#df-d5bfc636-60ab-4b68-a231-0ad60b5f85d6 button');\n",
              "      quickchartButtonEl.style.display =\n",
              "        google.colab.kernel.accessAllowed ? 'block' : 'none';\n",
              "    })();\n",
              "  </script>\n",
              "</div>\n",
              "\n",
              "  <div id=\"id_b52e9c7c-a5db-4d21-8279-011fabc7cb8a\">\n",
              "    <style>\n",
              "      .colab-df-generate {\n",
              "        background-color: #E8F0FE;\n",
              "        border: none;\n",
              "        border-radius: 50%;\n",
              "        cursor: pointer;\n",
              "        display: none;\n",
              "        fill: #1967D2;\n",
              "        height: 32px;\n",
              "        padding: 0 0 0 0;\n",
              "        width: 32px;\n",
              "      }\n",
              "\n",
              "      .colab-df-generate:hover {\n",
              "        background-color: #E2EBFA;\n",
              "        box-shadow: 0px 1px 2px rgba(60, 64, 67, 0.3), 0px 1px 3px 1px rgba(60, 64, 67, 0.15);\n",
              "        fill: #174EA6;\n",
              "      }\n",
              "\n",
              "      [theme=dark] .colab-df-generate {\n",
              "        background-color: #3B4455;\n",
              "        fill: #D2E3FC;\n",
              "      }\n",
              "\n",
              "      [theme=dark] .colab-df-generate:hover {\n",
              "        background-color: #434B5C;\n",
              "        box-shadow: 0px 1px 3px 1px rgba(0, 0, 0, 0.15);\n",
              "        filter: drop-shadow(0px 1px 2px rgba(0, 0, 0, 0.3));\n",
              "        fill: #FFFFFF;\n",
              "      }\n",
              "    </style>\n",
              "    <button class=\"colab-df-generate\" onclick=\"generateWithVariable('df')\"\n",
              "            title=\"Generate code using this dataframe.\"\n",
              "            style=\"display:none;\">\n",
              "\n",
              "  <svg xmlns=\"http://www.w3.org/2000/svg\" height=\"24px\"viewBox=\"0 0 24 24\"\n",
              "       width=\"24px\">\n",
              "    <path d=\"M7,19H8.4L18.45,9,17,7.55,7,17.6ZM5,21V16.75L18.45,3.32a2,2,0,0,1,2.83,0l1.4,1.43a1.91,1.91,0,0,1,.58,1.4,1.91,1.91,0,0,1-.58,1.4L9.25,21ZM18.45,9,17,7.55Zm-12,3A5.31,5.31,0,0,0,4.9,8.1,5.31,5.31,0,0,0,1,6.5,5.31,5.31,0,0,0,4.9,4.9,5.31,5.31,0,0,0,6.5,1,5.31,5.31,0,0,0,8.1,4.9,5.31,5.31,0,0,0,12,6.5,5.46,5.46,0,0,0,6.5,12Z\"/>\n",
              "  </svg>\n",
              "    </button>\n",
              "    <script>\n",
              "      (() => {\n",
              "      const buttonEl =\n",
              "        document.querySelector('#id_b52e9c7c-a5db-4d21-8279-011fabc7cb8a button.colab-df-generate');\n",
              "      buttonEl.style.display =\n",
              "        google.colab.kernel.accessAllowed ? 'block' : 'none';\n",
              "\n",
              "      buttonEl.onclick = () => {\n",
              "        google.colab.notebook.generateWithVariable('df');\n",
              "      }\n",
              "      })();\n",
              "    </script>\n",
              "  </div>\n",
              "\n",
              "    </div>\n",
              "  </div>\n"
            ],
            "application/vnd.google.colaboratory.intrinsic+json": {
              "type": "dataframe",
              "variable_name": "df",
              "summary": "{\n  \"name\": \"df\",\n  \"rows\": 1194,\n  \"fields\": [\n    {\n      \"column\": \"Comment\",\n      \"properties\": {\n        \"dtype\": \"string\",\n        \"num_unique_values\": 1162,\n        \"samples\": [\n          \"FAU played 5 vs. 8\",\n          \"Kudos to Dutcher for not fouling and trusting his squad to get one more stop. He was rewarded for that trust.\",\n          \"The refs were super whistle happy on both ends which ruined the flow of the game. We got a lot of calls at the end for sure but they got a bunch in the 1st half and in the beginning of the 2nd half. I\\u2019m biased so take this as you will\"\n        ],\n        \"semantic_type\": \"\",\n        \"description\": \"\"\n      }\n    },\n    {\n      \"column\": \"Author\",\n      \"properties\": {\n        \"dtype\": \"string\",\n        \"num_unique_values\": 655,\n        \"samples\": [\n          \"Electrical_Signal517\",\n          \"EctoRiddler\",\n          \"NotOSIsdormmole\"\n        ],\n        \"semantic_type\": \"\",\n        \"description\": \"\"\n      }\n    },\n    {\n      \"column\": \"Created UTC\",\n      \"properties\": {\n        \"dtype\": \"object\",\n        \"num_unique_values\": 1005,\n        \"samples\": [\n          \"2023-04-02 00:42:43\",\n          \"2023-04-02 01:45:00\",\n          \"2023-04-02 01:17:31\"\n        ],\n        \"semantic_type\": \"\",\n        \"description\": \"\"\n      }\n    },\n    {\n      \"column\": \"Cleaned_Comment\",\n      \"properties\": {\n        \"dtype\": \"string\",\n        \"num_unique_values\": 1134,\n        \"samples\": [\n          \"lol anyone sd afford pay double anything\",\n          \"yep anybody bitching ref fau smart man\",\n          \"awesome would even funny imo missed shot still said\"\n        ],\n        \"semantic_type\": \"\",\n        \"description\": \"\"\n      }\n    }\n  ]\n}"
            }
          },
          "metadata": {},
          "execution_count": 54
        }
      ]
    },
    {
      "cell_type": "code",
      "source": [
        "def get_response(query):\n",
        "  q = f\"\"\"The following is a social media comment under a Reddit thread about a March Madness game. Return just the name of the SCHOOL, no mascot, that the comment is about. If there is NO WAY you can figure out what team then return \"None\":\n",
        "  {query}\n",
        "  \"\"\"\n",
        "  response = query_openai(q)\n",
        "  response_message = response['choices'][0]['message']['content']\n",
        "  return response_message"
      ],
      "metadata": {
        "id": "u0Dr4lzGme6q"
      },
      "execution_count": null,
      "outputs": []
    },
    {
      "cell_type": "code",
      "source": [
        "df[\"Team\"].value_counts()"
      ],
      "metadata": {
        "id": "Mza-MZYB0kjS"
      },
      "execution_count": null,
      "outputs": []
    },
    {
      "cell_type": "code",
      "source": [
        "variation_to_team = {variation: team for team, variations in team_keywords.items() for variation in variations}\n",
        "\n",
        "# Function to normalize team names\n",
        "def normalize_team_name(team_name):\n",
        "    team_name = team_name.lower()\n",
        "    return variation_to_team.get(team_name, team_name)\n",
        "\n",
        "# Apply the normalization function to the 'Team' column\n",
        "df['Team'] = df['Team'].apply(normalize_team_name)\n",
        "\n",
        "print(df['Team'].value_counts())\n",
        "print(df)"
      ],
      "metadata": {
        "id": "r_e2kA-D47VT"
      },
      "execution_count": null,
      "outputs": []
    },
    {
      "cell_type": "code",
      "source": [
        "df = pd.read_csv(\"/content/Cleaned_FINAL.csv\")"
      ],
      "metadata": {
        "id": "f8bfmIlQ93T5"
      },
      "execution_count": null,
      "outputs": []
    },
    {
      "cell_type": "code",
      "source": [
        "df[\"Team\"].value_counts()"
      ],
      "metadata": {
        "colab": {
          "base_uri": "https://localhost:8080/"
        },
        "id": "0XCCLiah9nN7",
        "outputId": "a4289787-05ad-4272-f4b9-9462d375e18b"
      },
      "execution_count": null,
      "outputs": [
        {
          "output_type": "execute_result",
          "data": {
            "text/plain": [
              "Team\n",
              "none                   788\n",
              "san diego st.          136\n",
              "Florida Atlantic       124\n",
              "UConn                   18\n",
              "butler                   8\n",
              "                      ... \n",
              "miami fl                 1\n",
              "may                      1\n",
              "petco park               1\n",
              "pac                      1\n",
              "Fairleigh Dickinson      1\n",
              "Name: count, Length: 80, dtype: int64"
            ]
          },
          "metadata": {},
          "execution_count": 9
        }
      ]
    },
    {
      "cell_type": "markdown",
      "source": [
        "### 3. BERT"
      ],
      "metadata": {
        "id": "H6WvenTLg91B"
      }
    },
    {
      "cell_type": "markdown",
      "source": [
        "3-1. Further Pre-Training (Domain Adaptation)"
      ],
      "metadata": {
        "id": "DSClNLJs6NtL"
      }
    },
    {
      "cell_type": "code",
      "source": [
        "pip uninstall -y transformers"
      ],
      "metadata": {
        "colab": {
          "base_uri": "https://localhost:8080/"
        },
        "id": "16ZxoaLC_BYo",
        "outputId": "864a716b-a296-4d34-8a94-caaa79f46382"
      },
      "execution_count": null,
      "outputs": [
        {
          "output_type": "stream",
          "name": "stdout",
          "text": [
            "Found existing installation: transformers 4.40.1\n",
            "Uninstalling transformers-4.40.1:\n",
            "  Successfully uninstalled transformers-4.40.1\n"
          ]
        }
      ]
    },
    {
      "cell_type": "code",
      "source": [
        "pip uninstall -y accelerate"
      ],
      "metadata": {
        "colab": {
          "base_uri": "https://localhost:8080/"
        },
        "id": "KLGfD1Cf-Qxx",
        "outputId": "47ba6876-ca92-4f4c-c283-48800e7d970e"
      },
      "execution_count": null,
      "outputs": [
        {
          "output_type": "stream",
          "name": "stdout",
          "text": [
            "\u001b[33mWARNING: Skipping accelerate as it is not installed.\u001b[0m\u001b[33m\n",
            "\u001b[0m"
          ]
        }
      ]
    },
    {
      "cell_type": "code",
      "source": [
        "pip cache purge"
      ],
      "metadata": {
        "colab": {
          "base_uri": "https://localhost:8080/"
        },
        "id": "riqWZFxE-W3F",
        "outputId": "dbd71eb7-9a66-401d-c83d-65f383beede1"
      },
      "execution_count": null,
      "outputs": [
        {
          "output_type": "stream",
          "name": "stdout",
          "text": [
            "Files removed: 37\n"
          ]
        }
      ]
    },
    {
      "cell_type": "code",
      "source": [
        "pip install transformers[torch]==4.18.0 accelerate==0.6.1\n"
      ],
      "metadata": {
        "id": "ku-H2adl-b3Y"
      },
      "execution_count": null,
      "outputs": []
    },
    {
      "cell_type": "code",
      "source": [
        "import transformers\n",
        "import accelerate\n",
        "print(transformers.__version__)\n",
        "print(accelerate.__version__)\n",
        "from transformers import TrainingArguments"
      ],
      "metadata": {
        "colab": {
          "base_uri": "https://localhost:8080/"
        },
        "id": "-aWMSlPy-eu6",
        "outputId": "e99cf45e-7ac7-4e2a-dc9a-ccf0f453c881"
      },
      "execution_count": null,
      "outputs": [
        {
          "output_type": "stream",
          "name": "stdout",
          "text": [
            "4.18.0\n",
            "0.6.1\n"
          ]
        }
      ]
    },
    {
      "cell_type": "code",
      "source": [
        "pip install datasets"
      ],
      "metadata": {
        "colab": {
          "base_uri": "https://localhost:8080/",
          "height": 222
        },
        "id": "PEsWZGdGeOOI",
        "outputId": "1519e977-a329-4e10-e38f-a834000e5caa"
      },
      "execution_count": null,
      "outputs": [
        {
          "output_type": "stream",
          "name": "stdout",
          "text": [
            "Installing collected packages: xxhash, dill, multiprocess, huggingface-hub, datasets\n",
            "  Attempting uninstall: huggingface-hub\n",
            "    Found existing installation: huggingface-hub 0.20.3\n",
            "    Uninstalling huggingface-hub-0.20.3:\n",
            "      Successfully uninstalled huggingface-hub-0.20.3\n",
            "Successfully installed datasets-2.19.1 dill-0.3.8 huggingface-hub-0.23.0 multiprocess-0.70.16 xxhash-3.4.1\n"
          ]
        },
        {
          "output_type": "display_data",
          "data": {
            "application/vnd.colab-display-data+json": {
              "pip_warning": {
                "packages": [
                  "huggingface_hub"
                ]
              },
              "id": "7aa3619d4e14457abf5a50c5bcffcf74"
            }
          },
          "metadata": {}
        }
      ]
    },
    {
      "cell_type": "code",
      "source": [
        "pip install ray[tune] matplotlib\n"
      ],
      "metadata": {
        "id": "TcxOQCm9dGee"
      },
      "execution_count": null,
      "outputs": []
    },
    {
      "cell_type": "code",
      "source": [
        "pip install ray.tune.integration.transformers"
      ],
      "metadata": {
        "id": "pfqdK8AleWjC"
      },
      "execution_count": null,
      "outputs": []
    },
    {
      "cell_type": "code",
      "source": [
        "import ray\n",
        "from ray import tune\n",
        "from ray.tune.schedulers import ASHAScheduler\n",
        "import torch\n",
        "from transformers import BertTokenizer, BertForMaskedLM, DataCollatorForLanguageModeling\n",
        "from transformers import Trainer, TrainingArguments\n",
        "from datasets import Dataset\n",
        "import pandas as pd\n",
        "\n",
        "from transformers import TrainerCallback\n",
        "from ray import tune\n",
        "\n",
        "class TuneReportCallback(TrainerCallback):\n",
        "    \"\"\"Custom callback for reporting metrics to Ray Tune.\"\"\"\n",
        "\n",
        "    def on_log(self, args, state, control, logs=None, **kwargs):\n",
        "        if state.is_local_process_zero:\n",
        "            tune.report(loss=logs.get(\"loss\"), accuracy=logs.get(\"eval_accuracy\"))\n",
        "\n",
        "def train_model(config):\n",
        "    from transformers import TrainingArguments, Trainer\n",
        "\n",
        "    training_args = TrainingArguments(\n",
        "        output_dir=\"./bert_pretrain_mlm\",\n",
        "        overwrite_output_dir=True,\n",
        "        num_train_epochs=10,\n",
        "        per_device_train_batch_size=int(config[\"batch_size\"]),\n",
        "        learning_rate=config[\"lr\"],\n",
        "        save_steps=10000,\n",
        "        save_total_limit=2,\n",
        "        report_to=\"none\"\n",
        "    )\n",
        "\n",
        "    model = BertForMaskedLM.from_pretrained('bert-base-uncased')\n",
        "    tokenizer = BertTokenizer.from_pretrained('bert-base-uncased')\n",
        "    data_collator = DataCollatorForLanguageModeling(tokenizer=tokenizer, mlm=True, mlm_probability=0.15)\n",
        "\n",
        "    trainer = Trainer(\n",
        "        model=model,\n",
        "        args=training_args,\n",
        "        data_collator=data_collator,\n",
        "        train_dataset=tokenized_datasets,\n",
        "        callbacks=[TuneReportCallback()]\n",
        "    )\n",
        "\n",
        "    trainer.train()\n",
        "config = {\n",
        "    \"lr\": tune.grid_search([5e-5, 3e-5, 2e-5]),\n",
        "    \"batch_size\": tune.grid_search([8, 16, 32])\n",
        "}\n",
        "\n",
        "scheduler = ASHAScheduler(\n",
        "    grace_period=1,\n",
        "    reduction_factor=2\n",
        ")\n",
        "\n",
        "ray.init(log_to_driver=False)\n",
        "analysis = tune.run(\n",
        "    train_model,\n",
        "    resources_per_trial={\"cpu\": 2, \"gpu\": 1},\n",
        "    config=config,\n",
        "    num_samples=1,\n",
        "    scheduler=scheduler,\n",
        "    progress_reporter=tune.CLIReporter()\n",
        ")\n",
        "\n",
        "ray.shutdown()\n",
        "\n",
        "# Best hyperparameters\n",
        "print(\"Best hyperparameters found were: \", analysis.best_config)\n",
        "\n"
      ],
      "metadata": {
        "id": "9zHO5coQ6gFp"
      },
      "execution_count": null,
      "outputs": []
    },
    {
      "cell_type": "code",
      "source": [
        "df = analysis.results_df\n",
        "\n",
        "# Plotting\n",
        "fig, ax = plt.subplots(1, 1, figsize=(10, 5))\n",
        "for label, df_group in df.groupby('config.lr'):\n",
        "    df_group.plot(x='training_iteration', y='loss', ax=ax, label=f\"LR: {label}\")\n",
        "ax.set_xlabel(\"Training Iteration\")\n",
        "ax.set_ylabel(\"Loss\")\n",
        "ax.set_title(\"Learning Rate vs. Loss\")\n",
        "plt.legend()\n",
        "plt.show()"
      ],
      "metadata": {
        "id": "sX1DzdX8hRQY"
      },
      "execution_count": null,
      "outputs": []
    },
    {
      "cell_type": "code",
      "source": [
        "torch.save(model.state_dict(), './bert_pretrain_mlm/model_weights.pth')\n",
        "model_loaded = BertForMaskedLM.from_pretrained('bert-base-uncased')\n",
        "model_loaded.load_state_dict(torch.load('./bert_pretrain_mlm/model_weights.pth'))\n",
        "model_loaded.save_pretrained('./bert_pretrain_mlm')"
      ],
      "metadata": {
        "colab": {
          "base_uri": "https://localhost:8080/"
        },
        "id": "8w2iXDMreUCv",
        "outputId": "302e4960-74b9-496f-b73a-c14fb5e53022"
      },
      "execution_count": null,
      "outputs": [
        {
          "output_type": "stream",
          "name": "stderr",
          "text": [
            "loading configuration file https://huggingface.co/bert-base-uncased/resolve/main/config.json from cache at /root/.cache/huggingface/transformers/3c61d016573b14f7f008c02c4e51a366c67ab274726fe2910691e2a761acf43e.37395cee442ab11005bcd270f3c34464dc1704b715b5d7d52b1a461abe3b9e4e\n",
            "Model config BertConfig {\n",
            "  \"architectures\": [\n",
            "    \"BertForMaskedLM\"\n",
            "  ],\n",
            "  \"attention_probs_dropout_prob\": 0.1,\n",
            "  \"classifier_dropout\": null,\n",
            "  \"gradient_checkpointing\": false,\n",
            "  \"hidden_act\": \"gelu\",\n",
            "  \"hidden_dropout_prob\": 0.1,\n",
            "  \"hidden_size\": 768,\n",
            "  \"initializer_range\": 0.02,\n",
            "  \"intermediate_size\": 3072,\n",
            "  \"layer_norm_eps\": 1e-12,\n",
            "  \"max_position_embeddings\": 512,\n",
            "  \"model_type\": \"bert\",\n",
            "  \"num_attention_heads\": 12,\n",
            "  \"num_hidden_layers\": 12,\n",
            "  \"pad_token_id\": 0,\n",
            "  \"position_embedding_type\": \"absolute\",\n",
            "  \"transformers_version\": \"4.18.0\",\n",
            "  \"type_vocab_size\": 2,\n",
            "  \"use_cache\": true,\n",
            "  \"vocab_size\": 30522\n",
            "}\n",
            "\n",
            "loading weights file https://huggingface.co/bert-base-uncased/resolve/main/pytorch_model.bin from cache at /root/.cache/huggingface/transformers/a8041bf617d7f94ea26d15e218abd04afc2004805632abc0ed2066aa16d50d04.faf6ea826ae9c5867d12b22257f9877e6b8367890837bd60f7c54a29633f7f2f\n",
            "Some weights of the model checkpoint at bert-base-uncased were not used when initializing BertForMaskedLM: ['cls.seq_relationship.bias', 'cls.seq_relationship.weight']\n",
            "- This IS expected if you are initializing BertForMaskedLM from the checkpoint of a model trained on another task or with another architecture (e.g. initializing a BertForSequenceClassification model from a BertForPreTraining model).\n",
            "- This IS NOT expected if you are initializing BertForMaskedLM from the checkpoint of a model that you expect to be exactly identical (initializing a BertForSequenceClassification model from a BertForSequenceClassification model).\n",
            "All the weights of BertForMaskedLM were initialized from the model checkpoint at bert-base-uncased.\n",
            "If your task is similar to the task the model of the checkpoint was trained on, you can already use BertForMaskedLM for predictions without further training.\n",
            "Configuration saved in ./bert_pretrain_mlm/config.json\n",
            "Model weights saved in ./bert_pretrain_mlm/pytorch_model.bin\n"
          ]
        }
      ]
    },
    {
      "cell_type": "markdown",
      "source": [
        "### 3-2. Fine-tuning BERT\n"
      ],
      "metadata": {
        "id": "py0FW2jIStta"
      }
    },
    {
      "cell_type": "code",
      "source": [
        "!pip install --upgrade pip\n",
        "!pip install -U datasets transformers huggingface_hub"
      ],
      "metadata": {
        "id": "BHsfXb2sPE3k"
      },
      "execution_count": null,
      "outputs": []
    },
    {
      "cell_type": "code",
      "source": [
        "from transformers import BertTokenizer, BertForSequenceClassification, Trainer, TrainingArguments\n",
        "from datasets import load_dataset\n",
        "from transformers import AdamW\n",
        "\n",
        "dataset = load_dataset('yelp_review_full', split='train')\n",
        "\n",
        "train_test_split = dataset.train_test_split(train_size=60000, test_size=5000)"
      ],
      "metadata": {
        "id": "SYH_PdIOFRHH"
      },
      "execution_count": null,
      "outputs": []
    },
    {
      "cell_type": "code",
      "source": [
        "!ls ./bert_pretrain_mlm"
      ],
      "metadata": {
        "colab": {
          "base_uri": "https://localhost:8080/"
        },
        "id": "LmhNZPorRAUr",
        "outputId": "60801ff3-06b2-4b92-af11-85c4464028d1"
      },
      "execution_count": null,
      "outputs": [
        {
          "output_type": "stream",
          "name": "stdout",
          "text": [
            "config.json\t   pytorch_model.bin  special_tokens_map.json  vocab.txt\n",
            "model_weights.pth  runs\t\t      tokenizer_config.json\n"
          ]
        }
      ]
    },
    {
      "cell_type": "code",
      "source": [
        "tokenizer = BertTokenizer.from_pretrained('bert-base-uncased')\n",
        "\n",
        "def tokenize_function(examples):\n",
        "    return tokenizer(examples['text'], padding=\"max_length\", truncation=True, max_length=128)\n",
        "\n",
        "tokenized_datasets = train_test_split.map(tokenize_function, batched=True)\n",
        "tokenized_datasets.set_format(type='torch', columns=['input_ids', 'attention_mask', 'label'])\n",
        "\n",
        "model = BertForSequenceClassification.from_pretrained('./bert_pretrain_mlm', num_labels=5)"
      ],
      "metadata": {
        "colab": {
          "base_uri": "https://localhost:8080/",
          "height": 137,
          "referenced_widgets": [
            "4e685afbd97f45bba868824ea65d5520",
            "7f170bee6559426481f67db588908941",
            "a23b3bb9d6a7472ba98b4008ffe64ee0",
            "d2ed5f8c500345fb86ec233fb2ed2531",
            "474025ff56514528af07b86bd54ba6a1",
            "a7f2292bea8a4bc08455a9fa36561041",
            "3466a93af3fd4555bc6a3cb014c0a036",
            "92b3ce8d4b224dfabf735a4132d2557f",
            "43a0a57d3c484b8d9a65aee3e8c0cb4c",
            "e333ded9177446358e11f6d5721c376c",
            "5c2460c8989f40a7b7546fbb08d9412c",
            "915adc89f9b54c2ba70e5e13829347db",
            "f17b64c84225491fb6d6011488eac1cd",
            "9b82d9e6ecab41cebb46eda10a3de9b5",
            "7099d10c650d4b45a31e03c4822c54fc",
            "c30661b1b6d7498ebaadf9c537a8009d",
            "9681d36ba8984d289b3e7d4c92dcb2f2",
            "79e90827e8a9479ca00614653549f6d2",
            "6ae1b71cae054a65a0e5b4e02c15d3df",
            "5b34cf6ebdce4d61ac2008a290ffe283",
            "1f584ca2b94049e9bf008c6e1db4bdde",
            "3627f24245504fe3ac258b0b6f8ba766"
          ]
        },
        "id": "UlbsuTi2dqlF",
        "outputId": "2bb87e74-7610-4321-c2c6-b7610adabadf"
      },
      "execution_count": null,
      "outputs": [
        {
          "output_type": "display_data",
          "data": {
            "text/plain": [
              "Map:   0%|          | 0/60000 [00:00<?, ? examples/s]"
            ],
            "application/vnd.jupyter.widget-view+json": {
              "version_major": 2,
              "version_minor": 0,
              "model_id": "4e685afbd97f45bba868824ea65d5520"
            }
          },
          "metadata": {}
        },
        {
          "output_type": "display_data",
          "data": {
            "text/plain": [
              "Map:   0%|          | 0/5000 [00:00<?, ? examples/s]"
            ],
            "application/vnd.jupyter.widget-view+json": {
              "version_major": 2,
              "version_minor": 0,
              "model_id": "915adc89f9b54c2ba70e5e13829347db"
            }
          },
          "metadata": {}
        },
        {
          "output_type": "stream",
          "name": "stderr",
          "text": [
            "Some weights of BertForSequenceClassification were not initialized from the model checkpoint at ./bert_pretrain_mlm and are newly initialized: ['bert.pooler.dense.bias', 'bert.pooler.dense.weight', 'classifier.bias', 'classifier.weight']\n",
            "You should probably TRAIN this model on a down-stream task to be able to use it for predictions and inference.\n"
          ]
        }
      ]
    },
    {
      "cell_type": "code",
      "source": [
        "import torch\n",
        "torch.cuda.empty_cache()"
      ],
      "metadata": {
        "id": "XfxL-Z-BTEJj"
      },
      "execution_count": null,
      "outputs": []
    },
    {
      "cell_type": "code",
      "source": [
        "from transformers import Trainer, TrainingArguments, AdamW, get_scheduler\n",
        "from transformers.trainer_callback import EarlyStoppingCallback\n",
        "\n",
        "# Define training arguments\n",
        "training_args = TrainingArguments(\n",
        "    output_dir=\"./bert_finetune_sentiment\",\n",
        "    overwrite_output_dir=True,\n",
        "    evaluation_strategy=\"steps\",\n",
        "    eval_steps=1000,\n",
        "    per_device_train_batch_size=16,\n",
        "    num_train_epochs=5,\n",
        "    save_steps=1000,\n",
        "    load_best_model_at_end=True\n",
        ")\n",
        "\n",
        "# Initialize the optimizer\n",
        "optimizer = AdamW(model.parameters(), lr=5e-5, weight_decay=0.01)\n",
        "\n",
        "# Define the number of training steps\n",
        "num_training_steps = (len(tokenized_datasets['train']) // training_args.per_device_train_batch_size) * training_args.num_train_epochs\n",
        "\n",
        "# Initialize the learning rate scheduler\n",
        "lr_scheduler = get_scheduler(\n",
        "    name=\"linear\",\n",
        "    optimizer=optimizer,\n",
        "    num_warmup_steps=0,\n",
        "    num_training_steps=num_training_steps\n",
        ")\n",
        "\n",
        "# Initialize the Trainer with both optimizer and scheduler\n",
        "trainer = Trainer(\n",
        "    model=model,\n",
        "    args=training_args,\n",
        "    train_dataset=tokenized_datasets['train'],\n",
        "    eval_dataset=tokenized_datasets['test'],\n",
        "    optimizers=(optimizer, lr_scheduler),\n",
        "    callbacks=[EarlyStoppingCallback(early_stopping_patience=5)]\n",
        ")\n",
        "\n",
        "trainer.train()"
      ],
      "metadata": {
        "colab": {
          "base_uri": "https://localhost:8080/",
          "height": 1000
        },
        "id": "ZfZNZzrgdVko",
        "outputId": "7ff80c4f-28c9-4756-d7b1-1cd4a7d8ddbe"
      },
      "execution_count": null,
      "outputs": [
        {
          "output_type": "stream",
          "name": "stderr",
          "text": [
            "PyTorch: setting up devices\n",
            "The default value for the training argument `--report_to` will change in v5 (from all installed integrations to none). In v5, you will need to use `--report_to all` to get the same behavior as now. You should start updating your code and make this info disappear :-).\n",
            "The following columns in the training set  don't have a corresponding argument in `BertForSequenceClassification.forward` and have been ignored: text. If text are not expected by `BertForSequenceClassification.forward`,  you can safely ignore this message.\n",
            "***** Running training *****\n",
            "  Num examples = 60000\n",
            "  Num Epochs = 5\n",
            "  Instantaneous batch size per device = 16\n",
            "  Total train batch size (w. parallel, distributed & accumulation) = 16\n",
            "  Gradient Accumulation steps = 1\n",
            "  Total optimization steps = 18750\n"
          ]
        },
        {
          "output_type": "display_data",
          "data": {
            "text/plain": [
              "<IPython.core.display.HTML object>"
            ],
            "text/html": [
              "\n",
              "    <div>\n",
              "      \n",
              "      <progress value='8000' max='18750' style='width:300px; height:20px; vertical-align: middle;'></progress>\n",
              "      [ 8000/18750 54:37 < 1:13:25, 2.44 it/s, Epoch 2/5]\n",
              "    </div>\n",
              "    <table border=\"1\" class=\"dataframe\">\n",
              "  <thead>\n",
              " <tr style=\"text-align: left;\">\n",
              "      <th>Step</th>\n",
              "      <th>Training Loss</th>\n",
              "      <th>Validation Loss</th>\n",
              "    </tr>\n",
              "  </thead>\n",
              "  <tbody>\n",
              "    <tr>\n",
              "      <td>1000</td>\n",
              "      <td>1.024600</td>\n",
              "      <td>0.958515</td>\n",
              "    </tr>\n",
              "    <tr>\n",
              "      <td>2000</td>\n",
              "      <td>0.965000</td>\n",
              "      <td>0.949161</td>\n",
              "    </tr>\n",
              "    <tr>\n",
              "      <td>3000</td>\n",
              "      <td>0.938500</td>\n",
              "      <td>0.919445</td>\n",
              "    </tr>\n",
              "    <tr>\n",
              "      <td>4000</td>\n",
              "      <td>0.844800</td>\n",
              "      <td>0.959051</td>\n",
              "    </tr>\n",
              "    <tr>\n",
              "      <td>5000</td>\n",
              "      <td>0.774100</td>\n",
              "      <td>0.939457</td>\n",
              "    </tr>\n",
              "    <tr>\n",
              "      <td>6000</td>\n",
              "      <td>0.768100</td>\n",
              "      <td>0.939741</td>\n",
              "    </tr>\n",
              "    <tr>\n",
              "      <td>7000</td>\n",
              "      <td>0.767500</td>\n",
              "      <td>0.920879</td>\n",
              "    </tr>\n",
              "    <tr>\n",
              "      <td>8000</td>\n",
              "      <td>0.547500</td>\n",
              "      <td>1.042983</td>\n",
              "    </tr>\n",
              "  </tbody>\n",
              "</table><p>"
            ]
          },
          "metadata": {}
        },
        {
          "output_type": "stream",
          "name": "stderr",
          "text": [
            "The following columns in the evaluation set  don't have a corresponding argument in `BertForSequenceClassification.forward` and have been ignored: text. If text are not expected by `BertForSequenceClassification.forward`,  you can safely ignore this message.\n",
            "***** Running Evaluation *****\n",
            "  Num examples = 5000\n",
            "  Batch size = 8\n",
            "Saving model checkpoint to ./bert_finetune_sentiment/checkpoint-1000\n",
            "Configuration saved in ./bert_finetune_sentiment/checkpoint-1000/config.json\n",
            "Model weights saved in ./bert_finetune_sentiment/checkpoint-1000/pytorch_model.bin\n",
            "The following columns in the evaluation set  don't have a corresponding argument in `BertForSequenceClassification.forward` and have been ignored: text. If text are not expected by `BertForSequenceClassification.forward`,  you can safely ignore this message.\n",
            "***** Running Evaluation *****\n",
            "  Num examples = 5000\n",
            "  Batch size = 8\n",
            "Saving model checkpoint to ./bert_finetune_sentiment/checkpoint-2000\n",
            "Configuration saved in ./bert_finetune_sentiment/checkpoint-2000/config.json\n",
            "Model weights saved in ./bert_finetune_sentiment/checkpoint-2000/pytorch_model.bin\n",
            "The following columns in the evaluation set  don't have a corresponding argument in `BertForSequenceClassification.forward` and have been ignored: text. If text are not expected by `BertForSequenceClassification.forward`,  you can safely ignore this message.\n",
            "***** Running Evaluation *****\n",
            "  Num examples = 5000\n",
            "  Batch size = 8\n",
            "Saving model checkpoint to ./bert_finetune_sentiment/checkpoint-3000\n",
            "Configuration saved in ./bert_finetune_sentiment/checkpoint-3000/config.json\n",
            "Model weights saved in ./bert_finetune_sentiment/checkpoint-3000/pytorch_model.bin\n",
            "The following columns in the evaluation set  don't have a corresponding argument in `BertForSequenceClassification.forward` and have been ignored: text. If text are not expected by `BertForSequenceClassification.forward`,  you can safely ignore this message.\n",
            "***** Running Evaluation *****\n",
            "  Num examples = 5000\n",
            "  Batch size = 8\n",
            "Saving model checkpoint to ./bert_finetune_sentiment/checkpoint-4000\n",
            "Configuration saved in ./bert_finetune_sentiment/checkpoint-4000/config.json\n",
            "Model weights saved in ./bert_finetune_sentiment/checkpoint-4000/pytorch_model.bin\n",
            "The following columns in the evaluation set  don't have a corresponding argument in `BertForSequenceClassification.forward` and have been ignored: text. If text are not expected by `BertForSequenceClassification.forward`,  you can safely ignore this message.\n",
            "***** Running Evaluation *****\n",
            "  Num examples = 5000\n",
            "  Batch size = 8\n",
            "Saving model checkpoint to ./bert_finetune_sentiment/checkpoint-5000\n",
            "Configuration saved in ./bert_finetune_sentiment/checkpoint-5000/config.json\n",
            "Model weights saved in ./bert_finetune_sentiment/checkpoint-5000/pytorch_model.bin\n",
            "The following columns in the evaluation set  don't have a corresponding argument in `BertForSequenceClassification.forward` and have been ignored: text. If text are not expected by `BertForSequenceClassification.forward`,  you can safely ignore this message.\n",
            "***** Running Evaluation *****\n",
            "  Num examples = 5000\n",
            "  Batch size = 8\n",
            "Saving model checkpoint to ./bert_finetune_sentiment/checkpoint-6000\n",
            "Configuration saved in ./bert_finetune_sentiment/checkpoint-6000/config.json\n",
            "Model weights saved in ./bert_finetune_sentiment/checkpoint-6000/pytorch_model.bin\n",
            "The following columns in the evaluation set  don't have a corresponding argument in `BertForSequenceClassification.forward` and have been ignored: text. If text are not expected by `BertForSequenceClassification.forward`,  you can safely ignore this message.\n",
            "***** Running Evaluation *****\n",
            "  Num examples = 5000\n",
            "  Batch size = 8\n",
            "Saving model checkpoint to ./bert_finetune_sentiment/checkpoint-7000\n",
            "Configuration saved in ./bert_finetune_sentiment/checkpoint-7000/config.json\n",
            "Model weights saved in ./bert_finetune_sentiment/checkpoint-7000/pytorch_model.bin\n",
            "The following columns in the evaluation set  don't have a corresponding argument in `BertForSequenceClassification.forward` and have been ignored: text. If text are not expected by `BertForSequenceClassification.forward`,  you can safely ignore this message.\n",
            "***** Running Evaluation *****\n",
            "  Num examples = 5000\n",
            "  Batch size = 8\n",
            "Saving model checkpoint to ./bert_finetune_sentiment/checkpoint-8000\n",
            "Configuration saved in ./bert_finetune_sentiment/checkpoint-8000/config.json\n",
            "Model weights saved in ./bert_finetune_sentiment/checkpoint-8000/pytorch_model.bin\n",
            "\n",
            "\n",
            "Training completed. Do not forget to share your model on huggingface.co/models =)\n",
            "\n",
            "\n",
            "Loading best model from ./bert_finetune_sentiment/checkpoint-3000 (score: 0.9194450974464417).\n"
          ]
        },
        {
          "output_type": "execute_result",
          "data": {
            "text/plain": [
              "TrainOutput(global_step=8000, training_loss=0.8581290397644042, metrics={'train_runtime': 3278.0794, 'train_samples_per_second': 91.517, 'train_steps_per_second': 5.72, 'total_flos': 8419780558848000.0, 'train_loss': 0.8581290397644042, 'epoch': 2.13})"
            ]
          },
          "metadata": {},
          "execution_count": 96
        }
      ]
    },
    {
      "cell_type": "code",
      "source": [
        "from sklearn.metrics import accuracy_score, precision_recall_fscore_support, classification_report\n",
        "import numpy as np\n",
        "\n",
        "predictions = trainer.predict(tokenized_datasets['test'])\n",
        "\n",
        "preds = np.argmax(predictions.predictions, axis=-1)\n",
        "\n",
        "# Calculate accuracy\n",
        "accuracy = accuracy_score(predictions.label_ids, preds)\n",
        "print(\"Accuracy:\", accuracy)\n",
        "\n",
        "# Calculate precision, recall, and F1 score\n",
        "precision, recall, f1, _ = precision_recall_fscore_support(predictions.label_ids, preds, average='weighted')\n",
        "print(\"Precision:\", precision)\n",
        "print(\"Recall:\", recall)\n",
        "print(\"F1 Score:\", f1)\n",
        "\n",
        "label_names = ['Negative', 'Somewhat Negative', 'Neutral', 'Somewhat Positive', 'Positive']\n",
        "\n",
        "report = classification_report(predictions.label_ids, preds, target_names=label_names)"
      ],
      "metadata": {
        "colab": {
          "base_uri": "https://localhost:8080/",
          "height": 200
        },
        "id": "vzAQEjxUymum",
        "outputId": "ddb79f3c-82bd-49f0-b082-c228a2aab8b3"
      },
      "execution_count": null,
      "outputs": [
        {
          "output_type": "stream",
          "name": "stderr",
          "text": [
            "The following columns in the test set  don't have a corresponding argument in `BertForSequenceClassification.forward` and have been ignored: text. If text are not expected by `BertForSequenceClassification.forward`,  you can safely ignore this message.\n",
            "***** Running Prediction *****\n",
            "  Num examples = 5000\n",
            "  Batch size = 8\n"
          ]
        },
        {
          "output_type": "display_data",
          "data": {
            "text/plain": [
              "<IPython.core.display.HTML object>"
            ],
            "text/html": [
              "\n",
              "    <div>\n",
              "      \n",
              "      <progress value='1250' max='625' style='width:300px; height:20px; vertical-align: middle;'></progress>\n",
              "      [625/625 03:02]\n",
              "    </div>\n",
              "    "
            ]
          },
          "metadata": {}
        },
        {
          "output_type": "stream",
          "name": "stdout",
          "text": [
            "Accuracy: 0.601\n",
            "Precision: 0.5953544728035867\n",
            "Recall: 0.601\n",
            "F1 Score: 0.5830569479788342\n"
          ]
        }
      ]
    },
    {
      "cell_type": "code",
      "source": [
        "import os\n",
        "model.save_pretrained('./bert_finetuned_model', save_function=torch.save)\n",
        "\n",
        "print(\"Files after manual save:\", os.listdir('./bert_finetuned_model'))"
      ],
      "metadata": {
        "colab": {
          "base_uri": "https://localhost:8080/"
        },
        "id": "jKSad8uasLy7",
        "outputId": "8718f02d-b333-4989-fad2-d1e1622c9885"
      },
      "execution_count": null,
      "outputs": [
        {
          "output_type": "stream",
          "name": "stdout",
          "text": [
            "Files after manual save: ['.ipynb_checkpoints', 'vocab.txt', 'config.json', 'tokenizer_config.json', 'model.safetensors', '.DS_Store', 'special_tokens_map.json', 'pytorch_model.bin']\n"
          ]
        }
      ]
    },
    {
      "cell_type": "code",
      "source": [
        "from transformers import BertForSequenceClassification\n",
        "\n",
        "# Attempt to load the model from the directory\n",
        "try:\n",
        "    model = BertForSequenceClassification.from_pretrained('./bert_finetuned_model')\n",
        "    print(\"Model loaded successfully.\")\n",
        "except Exception as e:\n",
        "    print(\"Error loading model:\", e)"
      ],
      "metadata": {
        "colab": {
          "base_uri": "https://localhost:8080/"
        },
        "id": "IwFf9p0B2MtY",
        "outputId": "24806b6a-957a-4ea0-bb70-13841b858b15"
      },
      "execution_count": null,
      "outputs": [
        {
          "output_type": "stream",
          "name": "stdout",
          "text": [
            "Model loaded successfully.\n"
          ]
        }
      ]
    },
    {
      "cell_type": "code",
      "source": [
        "from sklearn.metrics import roc_curve, auc, RocCurveDisplay\n",
        "import matplotlib.pyplot as plt\n",
        "\n",
        "probs = predictions.predictions[:, 1]\n",
        "\n",
        "# Compute ROC curve and AUC\n",
        "fpr, tpr, thresholds = roc_curve(predictions.label_ids, probs, pos_label=1)\n",
        "roc_auc = auc(fpr, tpr)\n",
        "\n",
        "# Plot ROC Curve\n",
        "plt.figure()\n",
        "lw = 2\n",
        "plt.plot(fpr, tpr, color='darkorange', lw=lw, label='ROC curve (area = %0.2f)' % roc_auc)\n",
        "plt.plot([0, 1], [0, 1], color='navy', lw=lw, linestyle='--')\n",
        "plt.xlim([0.0, 1.0])\n",
        "plt.ylim([0.0, 1.05])\n",
        "plt.xlabel('False Positive Rate')\n",
        "plt.ylabel('True Positive Rate')\n",
        "plt.title('Receiver Operating Characteristic')\n",
        "plt.legend(loc=\"lower right\")\n",
        "plt.show()\n"
      ],
      "metadata": {
        "colab": {
          "base_uri": "https://localhost:8080/",
          "height": 472
        },
        "id": "sTwL6ALhj_pZ",
        "outputId": "973e61aa-99db-420e-a2a6-64b5b95b24e7"
      },
      "execution_count": null,
      "outputs": [
        {
          "output_type": "display_data",
          "data": {
            "text/plain": [
              "<Figure size 640x480 with 1 Axes>"
            ],
            "image/png": "[encoded data removed]"
          },
          "metadata": {}
        }
      ]
    },
    {
      "cell_type": "code",
      "source": [
        "from transformers import BertModel, BertTokenizer, BertForSequenceClassification\n",
        "\n",
        "model_dir = '/content/bert_finetuned_model'\n",
        "\n",
        "tokenizer = BertTokenizer.from_pretrained(model_dir)\n",
        "tokenizer.save_pretrained(model_dir)\n",
        "\n",
        "# Load the tokenizer\n",
        "tokenizer = BertTokenizer.from_pretrained(model_dir)\n",
        "\n",
        "# Load the fine-tuned\n",
        "model = BertForSequenceClassification.from_pretrained(model_dir)\n",
        "model.eval()"
      ],
      "metadata": {
        "colab": {
          "base_uri": "https://localhost:8080/"
        },
        "id": "aAOO_-ycnqNJ",
        "outputId": "3f9f1f05-2800-4190-87aa-623a5faff3a3"
      },
      "execution_count": null,
      "outputs": [
        {
          "output_type": "stream",
          "name": "stderr",
          "text": [
            "/usr/local/lib/python3.10/dist-packages/huggingface_hub/file_download.py:1132: FutureWarning: `resume_download` is deprecated and will be removed in version 1.0.0. Downloads always resume when possible. If you want to force a new download, use `force_download=True`.\n",
            "  warnings.warn(\n",
            "/usr/local/lib/python3.10/dist-packages/huggingface_hub/utils/_token.py:89: UserWarning: \n",
            "The secret `HF_TOKEN` does not exist in your Colab secrets.\n",
            "To authenticate with the Hugging Face Hub, create a token in your settings tab (https://huggingface.co/settings/tokens), set it as secret in your Google Colab and restart your session.\n",
            "You will be able to reuse this secret in all of your notebooks.\n",
            "Please note that authentication is recommended but still optional to access public models or datasets.\n",
            "  warnings.warn(\n"
          ]
        },
        {
          "output_type": "execute_result",
          "data": {
            "text/plain": [
              "BertForSequenceClassification(\n",
              "  (bert): BertModel(\n",
              "    (embeddings): BertEmbeddings(\n",
              "      (word_embeddings): Embedding(30522, 768, padding_idx=0)\n",
              "      (position_embeddings): Embedding(512, 768)\n",
              "      (token_type_embeddings): Embedding(2, 768)\n",
              "      (LayerNorm): LayerNorm((768,), eps=1e-12, elementwise_affine=True)\n",
              "      (dropout): Dropout(p=0.1, inplace=False)\n",
              "    )\n",
              "    (encoder): BertEncoder(\n",
              "      (layer): ModuleList(\n",
              "        (0-11): 12 x BertLayer(\n",
              "          (attention): BertAttention(\n",
              "            (self): BertSelfAttention(\n",
              "              (query): Linear(in_features=768, out_features=768, bias=True)\n",
              "              (key): Linear(in_features=768, out_features=768, bias=True)\n",
              "              (value): Linear(in_features=768, out_features=768, bias=True)\n",
              "              (dropout): Dropout(p=0.1, inplace=False)\n",
              "            )\n",
              "            (output): BertSelfOutput(\n",
              "              (dense): Linear(in_features=768, out_features=768, bias=True)\n",
              "              (LayerNorm): LayerNorm((768,), eps=1e-12, elementwise_affine=True)\n",
              "              (dropout): Dropout(p=0.1, inplace=False)\n",
              "            )\n",
              "          )\n",
              "          (intermediate): BertIntermediate(\n",
              "            (dense): Linear(in_features=768, out_features=3072, bias=True)\n",
              "            (intermediate_act_fn): GELUActivation()\n",
              "          )\n",
              "          (output): BertOutput(\n",
              "            (dense): Linear(in_features=3072, out_features=768, bias=True)\n",
              "            (LayerNorm): LayerNorm((768,), eps=1e-12, elementwise_affine=True)\n",
              "            (dropout): Dropout(p=0.1, inplace=False)\n",
              "          )\n",
              "        )\n",
              "      )\n",
              "    )\n",
              "    (pooler): BertPooler(\n",
              "      (dense): Linear(in_features=768, out_features=768, bias=True)\n",
              "      (activation): Tanh()\n",
              "    )\n",
              "  )\n",
              "  (dropout): Dropout(p=0.1, inplace=False)\n",
              "  (classifier): Linear(in_features=768, out_features=5, bias=True)\n",
              ")"
            ]
          },
          "metadata": {},
          "execution_count": 14
        }
      ]
    },
    {
      "cell_type": "markdown",
      "source": [
        "### 3.3 Mean_Pooling (sBERT)"
      ],
      "metadata": {
        "id": "R_r7zniZ_XYN"
      }
    },
    {
      "cell_type": "code",
      "source": [
        "from transformers import BertModel, BertTokenizer\n",
        "import torch\n",
        "import numpy as np\n",
        "\n",
        "# Load the tokenizer and model\n",
        "tokenizer = BertTokenizer.from_pretrained(model_dir)\n",
        "model = BertModel.from_pretrained(model_dir)\n",
        "model.eval()\n"
      ],
      "metadata": {
        "colab": {
          "base_uri": "https://localhost:8080/"
        },
        "id": "cY8KfeAlOGvg",
        "outputId": "ac95e73b-05e7-4507-87de-9941c0f0d0ac"
      },
      "execution_count": null,
      "outputs": [
        {
          "output_type": "execute_result",
          "data": {
            "text/plain": [
              "BertModel(\n",
              "  (embeddings): BertEmbeddings(\n",
              "    (word_embeddings): Embedding(30522, 768, padding_idx=0)\n",
              "    (position_embeddings): Embedding(512, 768)\n",
              "    (token_type_embeddings): Embedding(2, 768)\n",
              "    (LayerNorm): LayerNorm((768,), eps=1e-12, elementwise_affine=True)\n",
              "    (dropout): Dropout(p=0.1, inplace=False)\n",
              "  )\n",
              "  (encoder): BertEncoder(\n",
              "    (layer): ModuleList(\n",
              "      (0-11): 12 x BertLayer(\n",
              "        (attention): BertAttention(\n",
              "          (self): BertSelfAttention(\n",
              "            (query): Linear(in_features=768, out_features=768, bias=True)\n",
              "            (key): Linear(in_features=768, out_features=768, bias=True)\n",
              "            (value): Linear(in_features=768, out_features=768, bias=True)\n",
              "            (dropout): Dropout(p=0.1, inplace=False)\n",
              "          )\n",
              "          (output): BertSelfOutput(\n",
              "            (dense): Linear(in_features=768, out_features=768, bias=True)\n",
              "            (LayerNorm): LayerNorm((768,), eps=1e-12, elementwise_affine=True)\n",
              "            (dropout): Dropout(p=0.1, inplace=False)\n",
              "          )\n",
              "        )\n",
              "        (intermediate): BertIntermediate(\n",
              "          (dense): Linear(in_features=768, out_features=3072, bias=True)\n",
              "          (intermediate_act_fn): GELUActivation()\n",
              "        )\n",
              "        (output): BertOutput(\n",
              "          (dense): Linear(in_features=3072, out_features=768, bias=True)\n",
              "          (LayerNorm): LayerNorm((768,), eps=1e-12, elementwise_affine=True)\n",
              "          (dropout): Dropout(p=0.1, inplace=False)\n",
              "        )\n",
              "      )\n",
              "    )\n",
              "  )\n",
              "  (pooler): BertPooler(\n",
              "    (dense): Linear(in_features=768, out_features=768, bias=True)\n",
              "    (activation): Tanh()\n",
              "  )\n",
              ")"
            ]
          },
          "metadata": {},
          "execution_count": 81
        }
      ]
    },
    {
      "cell_type": "code",
      "source": [
        "from transformers import BertModel, BertTokenizer\n",
        "import torch\n",
        "import numpy as np\n",
        "\n",
        "# Assuming the model directory contains the model and tokenizer files\n",
        "model_dir = \"/content/bert_finetuned_model\"\n",
        "\n",
        "# Load the tokenizer and model\n",
        "tokenizer = BertTokenizer.from_pretrained(model_dir)\n",
        "model = BertModel.from_pretrained(model_dir)\n",
        "model.eval()\n",
        "\n",
        "def mean_pooling(model_output, attention_mask):\n",
        "    token_embeddings = model_output.last_hidden_state  # First element of model_output contains all token embeddings\n",
        "    input_mask_expanded = attention_mask.unsqueeze(-1).expand(token_embeddings.size()).float()\n",
        "    return torch.sum(token_embeddings * input_mask_expanded, 1) / torch.clamp(input_mask_expanded.sum(1), min=1e-9)\n",
        "\n",
        "def get_embeddings(texts, tokenizer, model, device='cpu', batch_size=8):\n",
        "    model.to(device)  # Move model to the appropriate device\n",
        "    embeddings = []\n",
        "\n",
        "    # Process texts in batches\n",
        "    for i in range(0, len(texts), batch_size):\n",
        "        batch_texts = texts[i:i+batch_size]\n",
        "        # Encode the batch of texts\n",
        "        encoded_inputs = tokenizer(batch_texts, return_tensors='pt', padding=True, truncation=True, max_length=512)\n",
        "        encoded_inputs = {k: v.to(device) for k, v in encoded_inputs.items()}  # Move tensors to device\n",
        "\n",
        "        with torch.no_grad():\n",
        "            # Get output from the model\n",
        "            outputs = model(**encoded_inputs)\n",
        "            # Perform mean pooling\n",
        "            pooled_embeddings = mean_pooling(outputs, encoded_inputs['attention_mask'])\n",
        "            embeddings.append(pooled_embeddings.cpu().numpy())  # Move embeddings back to CPU and convert to numpy\n",
        "\n",
        "    return np.vstack(embeddings)  # Stack embeddings\n",
        "\n"
      ],
      "metadata": {
        "id": "GohstPrl-rxu"
      },
      "execution_count": null,
      "outputs": []
    },
    {
      "cell_type": "code",
      "source": [
        "# Test embeddings for training dataset\n",
        "temp_df = tokenized_datasets['test'].to_pandas()\n",
        "texts = temp_df['text'].tolist()\n",
        "\n",
        "embeddings = get_embeddings(texts, tokenizer, model, batch_size=8)\n",
        "\n",
        "print(embeddings)"
      ],
      "metadata": {
        "colab": {
          "base_uri": "https://localhost:8080/"
        },
        "id": "IFbCJd2ndRJe",
        "outputId": "7c78fe13-e8c5-450b-d5c0-c3eb19202594"
      },
      "execution_count": null,
      "outputs": [
        {
          "output_type": "stream",
          "name": "stdout",
          "text": [
            "[[-0.0430983   0.05478001  0.18759899 ...  0.16398807 -0.08162937\n",
            "   0.07972928]\n",
            " [-0.15128665  0.20822954  0.28449848 ...  0.17533366  0.05390863\n",
            "   0.3002729 ]\n",
            " [-0.11259368  0.09827413  0.20685247 ...  0.0496087   0.20166427\n",
            "   0.10575968]\n",
            " ...\n",
            " [ 0.12914842  0.16850694  0.2734588  ...  0.09345262  0.0722307\n",
            "   0.0826283 ]\n",
            " [-0.11718275  0.04984271  0.4254377  ...  0.22432016  0.18028022\n",
            "   0.14316116]\n",
            " [ 0.03839508  0.1481538   0.1895983  ...  0.08386231  0.04250954\n",
            "   0.07921088]]\n"
          ]
        }
      ]
    },
    {
      "cell_type": "code",
      "source": [
        "temp_df"
      ],
      "metadata": {
        "colab": {
          "base_uri": "https://localhost:8080/",
          "height": 597
        },
        "id": "mWbKDVa8xpli",
        "outputId": "24afab7b-9d93-455a-f6ae-2afb580d7245"
      },
      "execution_count": null,
      "outputs": [
        {
          "output_type": "execute_result",
          "data": {
            "text/plain": [
              "      label                                               text  \\\n",
              "0         3  I haven't been scuba diving in a few years and...   \n",
              "1         1                           Low quality ingredients.   \n",
              "2         2  Went last night for MTL \\u00e0 Table and had a...   \n",
              "3         1  Before I start, we got there around 4:00 pm af...   \n",
              "4         3  Me & my fiance really had a great experience, ...   \n",
              "...     ...                                                ...   \n",
              "4995      3  They do a god job in my pedicure just think ne...   \n",
              "4996      1  I REALLY wanted chinese food last night but I ...   \n",
              "4997      1  I'm not a fan of buffets. So, why did I go her...   \n",
              "4998      2  This is a review for the stratosphere restaura...   \n",
              "4999      4  I cannot say much; however the brunch tapas bu...   \n",
              "\n",
              "                                              input_ids  \\\n",
              "0     [101, 1045, 4033, 1005, 1056, 2042, 28651, 940...   \n",
              "1     [101, 2659, 3737, 12760, 1012, 102, 0, 0, 0, 0...   \n",
              "2     [101, 2253, 2197, 2305, 2005, 11047, 2140, 103...   \n",
              "3     [101, 2077, 1045, 2707, 1010, 2057, 2288, 2045...   \n",
              "4     [101, 2033, 1004, 2026, 19154, 2428, 2018, 103...   \n",
              "...                                                 ...   \n",
              "4995  [101, 2027, 2079, 1037, 2643, 3105, 1999, 2026...   \n",
              "4996  [101, 1045, 2428, 2359, 2822, 2833, 2197, 2305...   \n",
              "4997  [101, 1045, 1005, 1049, 2025, 1037, 5470, 1997...   \n",
              "4998  [101, 2023, 2003, 1037, 3319, 2005, 1996, 2358...   \n",
              "4999  [101, 1045, 3685, 2360, 2172, 1025, 2174, 1996...   \n",
              "\n",
              "                                         token_type_ids  \\\n",
              "0     [0, 0, 0, 0, 0, 0, 0, 0, 0, 0, 0, 0, 0, 0, 0, ...   \n",
              "1     [0, 0, 0, 0, 0, 0, 0, 0, 0, 0, 0, 0, 0, 0, 0, ...   \n",
              "2     [0, 0, 0, 0, 0, 0, 0, 0, 0, 0, 0, 0, 0, 0, 0, ...   \n",
              "3     [0, 0, 0, 0, 0, 0, 0, 0, 0, 0, 0, 0, 0, 0, 0, ...   \n",
              "4     [0, 0, 0, 0, 0, 0, 0, 0, 0, 0, 0, 0, 0, 0, 0, ...   \n",
              "...                                                 ...   \n",
              "4995  [0, 0, 0, 0, 0, 0, 0, 0, 0, 0, 0, 0, 0, 0, 0, ...   \n",
              "4996  [0, 0, 0, 0, 0, 0, 0, 0, 0, 0, 0, 0, 0, 0, 0, ...   \n",
              "4997  [0, 0, 0, 0, 0, 0, 0, 0, 0, 0, 0, 0, 0, 0, 0, ...   \n",
              "4998  [0, 0, 0, 0, 0, 0, 0, 0, 0, 0, 0, 0, 0, 0, 0, ...   \n",
              "4999  [0, 0, 0, 0, 0, 0, 0, 0, 0, 0, 0, 0, 0, 0, 0, ...   \n",
              "\n",
              "                                         attention_mask  \n",
              "0     [1, 1, 1, 1, 1, 1, 1, 1, 1, 1, 1, 1, 1, 1, 1, ...  \n",
              "1     [1, 1, 1, 1, 1, 1, 0, 0, 0, 0, 0, 0, 0, 0, 0, ...  \n",
              "2     [1, 1, 1, 1, 1, 1, 1, 1, 1, 1, 1, 1, 1, 1, 1, ...  \n",
              "3     [1, 1, 1, 1, 1, 1, 1, 1, 1, 1, 1, 1, 1, 1, 1, ...  \n",
              "4     [1, 1, 1, 1, 1, 1, 1, 1, 1, 1, 1, 1, 1, 1, 1, ...  \n",
              "...                                                 ...  \n",
              "4995  [1, 1, 1, 1, 1, 1, 1, 1, 1, 1, 1, 1, 1, 1, 1, ...  \n",
              "4996  [1, 1, 1, 1, 1, 1, 1, 1, 1, 1, 1, 1, 1, 1, 1, ...  \n",
              "4997  [1, 1, 1, 1, 1, 1, 1, 1, 1, 1, 1, 1, 1, 1, 1, ...  \n",
              "4998  [1, 1, 1, 1, 1, 1, 1, 1, 1, 1, 1, 1, 1, 1, 1, ...  \n",
              "4999  [1, 1, 1, 1, 1, 1, 1, 1, 1, 1, 1, 1, 1, 1, 1, ...  \n",
              "\n",
              "[5000 rows x 5 columns]"
            ],
            "text/html": [
              "\n",
              "  <div id=\"df-1cfb3090-8898-47f0-bd15-5aff4edb736c\" class=\"colab-df-container\">\n",
              "    <div>\n",
              "<style scoped>\n",
              "    .dataframe tbody tr th:only-of-type {\n",
              "        vertical-align: middle;\n",
              "    }\n",
              "\n",
              "    .dataframe tbody tr th {\n",
              "        vertical-align: top;\n",
              "    }\n",
              "\n",
              "    .dataframe thead th {\n",
              "        text-align: right;\n",
              "    }\n",
              "</style>\n",
              "<table border=\"1\" class=\"dataframe\">\n",
              "  <thead>\n",
              "    <tr style=\"text-align: right;\">\n",
              "      <th></th>\n",
              "      <th>label</th>\n",
              "      <th>text</th>\n",
              "      <th>input_ids</th>\n",
              "      <th>token_type_ids</th>\n",
              "      <th>attention_mask</th>\n",
              "    </tr>\n",
              "  </thead>\n",
              "  <tbody>\n",
              "    <tr>\n",
              "      <th>0</th>\n",
              "      <td>3</td>\n",
              "      <td>I haven't been scuba diving in a few years and...</td>\n",
              "      <td>[101, 1045, 4033, 1005, 1056, 2042, 28651, 940...</td>\n",
              "      <td>[0, 0, 0, 0, 0, 0, 0, 0, 0, 0, 0, 0, 0, 0, 0, ...</td>\n",
              "      <td>[1, 1, 1, 1, 1, 1, 1, 1, 1, 1, 1, 1, 1, 1, 1, ...</td>\n",
              "    </tr>\n",
              "    <tr>\n",
              "      <th>1</th>\n",
              "      <td>1</td>\n",
              "      <td>Low quality ingredients.</td>\n",
              "      <td>[101, 2659, 3737, 12760, 1012, 102, 0, 0, 0, 0...</td>\n",
              "      <td>[0, 0, 0, 0, 0, 0, 0, 0, 0, 0, 0, 0, 0, 0, 0, ...</td>\n",
              "      <td>[1, 1, 1, 1, 1, 1, 0, 0, 0, 0, 0, 0, 0, 0, 0, ...</td>\n",
              "    </tr>\n",
              "    <tr>\n",
              "      <th>2</th>\n",
              "      <td>2</td>\n",
              "      <td>Went last night for MTL \\u00e0 Table and had a...</td>\n",
              "      <td>[101, 2253, 2197, 2305, 2005, 11047, 2140, 103...</td>\n",
              "      <td>[0, 0, 0, 0, 0, 0, 0, 0, 0, 0, 0, 0, 0, 0, 0, ...</td>\n",
              "      <td>[1, 1, 1, 1, 1, 1, 1, 1, 1, 1, 1, 1, 1, 1, 1, ...</td>\n",
              "    </tr>\n",
              "    <tr>\n",
              "      <th>3</th>\n",
              "      <td>1</td>\n",
              "      <td>Before I start, we got there around 4:00 pm af...</td>\n",
              "      <td>[101, 2077, 1045, 2707, 1010, 2057, 2288, 2045...</td>\n",
              "      <td>[0, 0, 0, 0, 0, 0, 0, 0, 0, 0, 0, 0, 0, 0, 0, ...</td>\n",
              "      <td>[1, 1, 1, 1, 1, 1, 1, 1, 1, 1, 1, 1, 1, 1, 1, ...</td>\n",
              "    </tr>\n",
              "    <tr>\n",
              "      <th>4</th>\n",
              "      <td>3</td>\n",
              "      <td>Me &amp; my fiance really had a great experience, ...</td>\n",
              "      <td>[101, 2033, 1004, 2026, 19154, 2428, 2018, 103...</td>\n",
              "      <td>[0, 0, 0, 0, 0, 0, 0, 0, 0, 0, 0, 0, 0, 0, 0, ...</td>\n",
              "      <td>[1, 1, 1, 1, 1, 1, 1, 1, 1, 1, 1, 1, 1, 1, 1, ...</td>\n",
              "    </tr>\n",
              "    <tr>\n",
              "      <th>...</th>\n",
              "      <td>...</td>\n",
              "      <td>...</td>\n",
              "      <td>...</td>\n",
              "      <td>...</td>\n",
              "      <td>...</td>\n",
              "    </tr>\n",
              "    <tr>\n",
              "      <th>4995</th>\n",
              "      <td>3</td>\n",
              "      <td>They do a god job in my pedicure just think ne...</td>\n",
              "      <td>[101, 2027, 2079, 1037, 2643, 3105, 1999, 2026...</td>\n",
              "      <td>[0, 0, 0, 0, 0, 0, 0, 0, 0, 0, 0, 0, 0, 0, 0, ...</td>\n",
              "      <td>[1, 1, 1, 1, 1, 1, 1, 1, 1, 1, 1, 1, 1, 1, 1, ...</td>\n",
              "    </tr>\n",
              "    <tr>\n",
              "      <th>4996</th>\n",
              "      <td>1</td>\n",
              "      <td>I REALLY wanted chinese food last night but I ...</td>\n",
              "      <td>[101, 1045, 2428, 2359, 2822, 2833, 2197, 2305...</td>\n",
              "      <td>[0, 0, 0, 0, 0, 0, 0, 0, 0, 0, 0, 0, 0, 0, 0, ...</td>\n",
              "      <td>[1, 1, 1, 1, 1, 1, 1, 1, 1, 1, 1, 1, 1, 1, 1, ...</td>\n",
              "    </tr>\n",
              "    <tr>\n",
              "      <th>4997</th>\n",
              "      <td>1</td>\n",
              "      <td>I'm not a fan of buffets. So, why did I go her...</td>\n",
              "      <td>[101, 1045, 1005, 1049, 2025, 1037, 5470, 1997...</td>\n",
              "      <td>[0, 0, 0, 0, 0, 0, 0, 0, 0, 0, 0, 0, 0, 0, 0, ...</td>\n",
              "      <td>[1, 1, 1, 1, 1, 1, 1, 1, 1, 1, 1, 1, 1, 1, 1, ...</td>\n",
              "    </tr>\n",
              "    <tr>\n",
              "      <th>4998</th>\n",
              "      <td>2</td>\n",
              "      <td>This is a review for the stratosphere restaura...</td>\n",
              "      <td>[101, 2023, 2003, 1037, 3319, 2005, 1996, 2358...</td>\n",
              "      <td>[0, 0, 0, 0, 0, 0, 0, 0, 0, 0, 0, 0, 0, 0, 0, ...</td>\n",
              "      <td>[1, 1, 1, 1, 1, 1, 1, 1, 1, 1, 1, 1, 1, 1, 1, ...</td>\n",
              "    </tr>\n",
              "    <tr>\n",
              "      <th>4999</th>\n",
              "      <td>4</td>\n",
              "      <td>I cannot say much; however the brunch tapas bu...</td>\n",
              "      <td>[101, 1045, 3685, 2360, 2172, 1025, 2174, 1996...</td>\n",
              "      <td>[0, 0, 0, 0, 0, 0, 0, 0, 0, 0, 0, 0, 0, 0, 0, ...</td>\n",
              "      <td>[1, 1, 1, 1, 1, 1, 1, 1, 1, 1, 1, 1, 1, 1, 1, ...</td>\n",
              "    </tr>\n",
              "  </tbody>\n",
              "</table>\n",
              "<p>5000 rows × 5 columns</p>\n",
              "</div>\n",
              "    <div class=\"colab-df-buttons\">\n",
              "\n",
              "  <div class=\"colab-df-container\">\n",
              "    <button class=\"colab-df-convert\" onclick=\"convertToInteractive('df-1cfb3090-8898-47f0-bd15-5aff4edb736c')\"\n",
              "            title=\"Convert this dataframe to an interactive table.\"\n",
              "            style=\"display:none;\">\n",
              "\n",
              "  <svg xmlns=\"http://www.w3.org/2000/svg\" height=\"24px\" viewBox=\"0 -960 960 960\">\n",
              "    <path d=\"M120-120v-720h720v720H120Zm60-500h600v-160H180v160Zm220 220h160v-160H400v160Zm0 220h160v-160H400v160ZM180-400h160v-160H180v160Zm440 0h160v-160H620v160ZM180-180h160v-160H180v160Zm440 0h160v-160H620v160Z\"/>\n",
              "  </svg>\n",
              "    </button>\n",
              "\n",
              "  <style>\n",
              "    .colab-df-container {\n",
              "      display:flex;\n",
              "      gap: 12px;\n",
              "    }\n",
              "\n",
              "    .colab-df-convert {\n",
              "      background-color: #E8F0FE;\n",
              "      border: none;\n",
              "      border-radius: 50%;\n",
              "      cursor: pointer;\n",
              "      display: none;\n",
              "      fill: #1967D2;\n",
              "      height: 32px;\n",
              "      padding: 0 0 0 0;\n",
              "      width: 32px;\n",
              "    }\n",
              "\n",
              "    .colab-df-convert:hover {\n",
              "      background-color: #E2EBFA;\n",
              "      box-shadow: 0px 1px 2px rgba(60, 64, 67, 0.3), 0px 1px 3px 1px rgba(60, 64, 67, 0.15);\n",
              "      fill: #174EA6;\n",
              "    }\n",
              "\n",
              "    .colab-df-buttons div {\n",
              "      margin-bottom: 4px;\n",
              "    }\n",
              "\n",
              "    [theme=dark] .colab-df-convert {\n",
              "      background-color: #3B4455;\n",
              "      fill: #D2E3FC;\n",
              "    }\n",
              "\n",
              "    [theme=dark] .colab-df-convert:hover {\n",
              "      background-color: #434B5C;\n",
              "      box-shadow: 0px 1px 3px 1px rgba(0, 0, 0, 0.15);\n",
              "      filter: drop-shadow(0px 1px 2px rgba(0, 0, 0, 0.3));\n",
              "      fill: #FFFFFF;\n",
              "    }\n",
              "  </style>\n",
              "\n",
              "    <script>\n",
              "      const buttonEl =\n",
              "        document.querySelector('#df-1cfb3090-8898-47f0-bd15-5aff4edb736c button.colab-df-convert');\n",
              "      buttonEl.style.display =\n",
              "        google.colab.kernel.accessAllowed ? 'block' : 'none';\n",
              "\n",
              "      async function convertToInteractive(key) {\n",
              "        const element = document.querySelector('#df-1cfb3090-8898-47f0-bd15-5aff4edb736c');\n",
              "        const dataTable =\n",
              "          await google.colab.kernel.invokeFunction('convertToInteractive',\n",
              "                                                    [key], {});\n",
              "        if (!dataTable) return;\n",
              "\n",
              "        const docLinkHtml = 'Like what you see? Visit the ' +\n",
              "          '<a target=\"_blank\" href=https://colab.research.google.com/notebooks/data_table.ipynb>data table notebook</a>'\n",
              "          + ' to learn more about interactive tables.';\n",
              "        element.innerHTML = '';\n",
              "        dataTable['output_type'] = 'display_data';\n",
              "        await google.colab.output.renderOutput(dataTable, element);\n",
              "        const docLink = document.createElement('div');\n",
              "        docLink.innerHTML = docLinkHtml;\n",
              "        element.appendChild(docLink);\n",
              "      }\n",
              "    </script>\n",
              "  </div>\n",
              "\n",
              "\n",
              "<div id=\"df-18246c20-5096-42a8-8de7-f860b87dd0cb\">\n",
              "  <button class=\"colab-df-quickchart\" onclick=\"quickchart('df-18246c20-5096-42a8-8de7-f860b87dd0cb')\"\n",
              "            title=\"Suggest charts\"\n",
              "            style=\"display:none;\">\n",
              "\n",
              "<svg xmlns=\"http://www.w3.org/2000/svg\" height=\"24px\"viewBox=\"0 0 24 24\"\n",
              "     width=\"24px\">\n",
              "    <g>\n",
              "        <path d=\"M19 3H5c-1.1 0-2 .9-2 2v14c0 1.1.9 2 2 2h14c1.1 0 2-.9 2-2V5c0-1.1-.9-2-2-2zM9 17H7v-7h2v7zm4 0h-2V7h2v10zm4 0h-2v-4h2v4z\"/>\n",
              "    </g>\n",
              "</svg>\n",
              "  </button>\n",
              "\n",
              "<style>\n",
              "  .colab-df-quickchart {\n",
              "      --bg-color: #E8F0FE;\n",
              "      --fill-color: #1967D2;\n",
              "      --hover-bg-color: #E2EBFA;\n",
              "      --hover-fill-color: #174EA6;\n",
              "      --disabled-fill-color: #AAA;\n",
              "      --disabled-bg-color: #DDD;\n",
              "  }\n",
              "\n",
              "  [theme=dark] .colab-df-quickchart {\n",
              "      --bg-color: #3B4455;\n",
              "      --fill-color: #D2E3FC;\n",
              "      --hover-bg-color: #434B5C;\n",
              "      --hover-fill-color: #FFFFFF;\n",
              "      --disabled-bg-color: #3B4455;\n",
              "      --disabled-fill-color: #666;\n",
              "  }\n",
              "\n",
              "  .colab-df-quickchart {\n",
              "    background-color: var(--bg-color);\n",
              "    border: none;\n",
              "    border-radius: 50%;\n",
              "    cursor: pointer;\n",
              "    display: none;\n",
              "    fill: var(--fill-color);\n",
              "    height: 32px;\n",
              "    padding: 0;\n",
              "    width: 32px;\n",
              "  }\n",
              "\n",
              "  .colab-df-quickchart:hover {\n",
              "    background-color: var(--hover-bg-color);\n",
              "    box-shadow: 0 1px 2px rgba(60, 64, 67, 0.3), 0 1px 3px 1px rgba(60, 64, 67, 0.15);\n",
              "    fill: var(--button-hover-fill-color);\n",
              "  }\n",
              "\n",
              "  .colab-df-quickchart-complete:disabled,\n",
              "  .colab-df-quickchart-complete:disabled:hover {\n",
              "    background-color: var(--disabled-bg-color);\n",
              "    fill: var(--disabled-fill-color);\n",
              "    box-shadow: none;\n",
              "  }\n",
              "\n",
              "  .colab-df-spinner {\n",
              "    border: 2px solid var(--fill-color);\n",
              "    border-color: transparent;\n",
              "    border-bottom-color: var(--fill-color);\n",
              "    animation:\n",
              "      spin 1s steps(1) infinite;\n",
              "  }\n",
              "\n",
              "  @keyframes spin {\n",
              "    0% {\n",
              "      border-color: transparent;\n",
              "      border-bottom-color: var(--fill-color);\n",
              "      border-left-color: var(--fill-color);\n",
              "    }\n",
              "    20% {\n",
              "      border-color: transparent;\n",
              "      border-left-color: var(--fill-color);\n",
              "      border-top-color: var(--fill-color);\n",
              "    }\n",
              "    30% {\n",
              "      border-color: transparent;\n",
              "      border-left-color: var(--fill-color);\n",
              "      border-top-color: var(--fill-color);\n",
              "      border-right-color: var(--fill-color);\n",
              "    }\n",
              "    40% {\n",
              "      border-color: transparent;\n",
              "      border-right-color: var(--fill-color);\n",
              "      border-top-color: var(--fill-color);\n",
              "    }\n",
              "    60% {\n",
              "      border-color: transparent;\n",
              "      border-right-color: var(--fill-color);\n",
              "    }\n",
              "    80% {\n",
              "      border-color: transparent;\n",
              "      border-right-color: var(--fill-color);\n",
              "      border-bottom-color: var(--fill-color);\n",
              "    }\n",
              "    90% {\n",
              "      border-color: transparent;\n",
              "      border-bottom-color: var(--fill-color);\n",
              "    }\n",
              "  }\n",
              "</style>\n",
              "\n",
              "  <script>\n",
              "    async function quickchart(key) {\n",
              "      const quickchartButtonEl =\n",
              "        document.querySelector('#' + key + ' button');\n",
              "      quickchartButtonEl.disabled = true;  // To prevent multiple clicks.\n",
              "      quickchartButtonEl.classList.add('colab-df-spinner');\n",
              "      try {\n",
              "        const charts = await google.colab.kernel.invokeFunction(\n",
              "            'suggestCharts', [key], {});\n",
              "      } catch (error) {\n",
              "        console.error('Error during call to suggestCharts:', error);\n",
              "      }\n",
              "      quickchartButtonEl.classList.remove('colab-df-spinner');\n",
              "      quickchartButtonEl.classList.add('colab-df-quickchart-complete');\n",
              "    }\n",
              "    (() => {\n",
              "      let quickchartButtonEl =\n",
              "        document.querySelector('#df-18246c20-5096-42a8-8de7-f860b87dd0cb button');\n",
              "      quickchartButtonEl.style.display =\n",
              "        google.colab.kernel.accessAllowed ? 'block' : 'none';\n",
              "    })();\n",
              "  </script>\n",
              "</div>\n",
              "\n",
              "  <div id=\"id_e9cbdec8-41cf-4afc-b0b2-b4fba4c48b17\">\n",
              "    <style>\n",
              "      .colab-df-generate {\n",
              "        background-color: #E8F0FE;\n",
              "        border: none;\n",
              "        border-radius: 50%;\n",
              "        cursor: pointer;\n",
              "        display: none;\n",
              "        fill: #1967D2;\n",
              "        height: 32px;\n",
              "        padding: 0 0 0 0;\n",
              "        width: 32px;\n",
              "      }\n",
              "\n",
              "      .colab-df-generate:hover {\n",
              "        background-color: #E2EBFA;\n",
              "        box-shadow: 0px 1px 2px rgba(60, 64, 67, 0.3), 0px 1px 3px 1px rgba(60, 64, 67, 0.15);\n",
              "        fill: #174EA6;\n",
              "      }\n",
              "\n",
              "      [theme=dark] .colab-df-generate {\n",
              "        background-color: #3B4455;\n",
              "        fill: #D2E3FC;\n",
              "      }\n",
              "\n",
              "      [theme=dark] .colab-df-generate:hover {\n",
              "        background-color: #434B5C;\n",
              "        box-shadow: 0px 1px 3px 1px rgba(0, 0, 0, 0.15);\n",
              "        filter: drop-shadow(0px 1px 2px rgba(0, 0, 0, 0.3));\n",
              "        fill: #FFFFFF;\n",
              "      }\n",
              "    </style>\n",
              "    <button class=\"colab-df-generate\" onclick=\"generateWithVariable('temp_df')\"\n",
              "            title=\"Generate code using this dataframe.\"\n",
              "            style=\"display:none;\">\n",
              "\n",
              "  <svg xmlns=\"http://www.w3.org/2000/svg\" height=\"24px\"viewBox=\"0 0 24 24\"\n",
              "       width=\"24px\">\n",
              "    <path d=\"M7,19H8.4L18.45,9,17,7.55,7,17.6ZM5,21V16.75L18.45,3.32a2,2,0,0,1,2.83,0l1.4,1.43a1.91,1.91,0,0,1,.58,1.4,1.91,1.91,0,0,1-.58,1.4L9.25,21ZM18.45,9,17,7.55Zm-12,3A5.31,5.31,0,0,0,4.9,8.1,5.31,5.31,0,0,0,1,6.5,5.31,5.31,0,0,0,4.9,4.9,5.31,5.31,0,0,0,6.5,1,5.31,5.31,0,0,0,8.1,4.9,5.31,5.31,0,0,0,12,6.5,5.46,5.46,0,0,0,6.5,12Z\"/>\n",
              "  </svg>\n",
              "    </button>\n",
              "    <script>\n",
              "      (() => {\n",
              "      const buttonEl =\n",
              "        document.querySelector('#id_e9cbdec8-41cf-4afc-b0b2-b4fba4c48b17 button.colab-df-generate');\n",
              "      buttonEl.style.display =\n",
              "        google.colab.kernel.accessAllowed ? 'block' : 'none';\n",
              "\n",
              "      buttonEl.onclick = () => {\n",
              "        google.colab.notebook.generateWithVariable('temp_df');\n",
              "      }\n",
              "      })();\n",
              "    </script>\n",
              "  </div>\n",
              "\n",
              "    </div>\n",
              "  </div>\n"
            ],
            "application/vnd.google.colaboratory.intrinsic+json": {
              "type": "dataframe",
              "variable_name": "temp_df",
              "summary": "{\n  \"name\": \"temp_df\",\n  \"rows\": 5000,\n  \"fields\": [\n    {\n      \"column\": \"label\",\n      \"properties\": {\n        \"dtype\": \"number\",\n        \"std\": 1,\n        \"min\": 0,\n        \"max\": 4,\n        \"num_unique_values\": 5,\n        \"samples\": [\n          1,\n          4,\n          2\n        ],\n        \"semantic_type\": \"\",\n        \"description\": \"\"\n      }\n    },\n    {\n      \"column\": \"text\",\n      \"properties\": {\n        \"dtype\": \"string\",\n        \"num_unique_values\": 5000,\n        \"samples\": [\n          \"Hed been putting off this day for years now . . . with a name like \\\\\\\"Smash Burger\\\\\\\" I was expecting a thin dried out burger . . . boy was I wrong.\\\\n\\\\nHad the mushroom and swiss smash burger and it was hot, juicy and oozing with flavor . . . a 6 napkin burger . . . the only thing better would be if I could make it a double . . . them I would be in hamburger heaven.\\\\n\\\\nNow you may ask . . . if it was so great . . . why only four stars.  Well, the friers were being serviced so no \\\\\\\"Smash Fries\\\\\\\" that I had heard about.  But if the burger alone get this place four stars . . . I would be willing to bett the fries would push it up to five stars.\\\\n\\\\nI return trip is definitely in the near future . . .\",\n          \"This was such a cool event.  I'll be going on a few other tours with the Burgh Bits & Bites crew and also frequenting the establishments we visited!  LOVED learning the history of the neighborhood.  All of the food we sampled was delicious.  \\\\nCBW - always a favorite.  Although we didn't get to meet the brewer, our tour guide was great and gave us a really interesting history of Pittsburgh brewing.  \\\\n\\\\nAmazing event, Rachel, thank you so much!!!!\",\n          \"I enjoy hanging with my friends here, for dinner or a drink, very nice staff and I also enjoy the atmosphere.\"\n        ],\n        \"semantic_type\": \"\",\n        \"description\": \"\"\n      }\n    },\n    {\n      \"column\": \"input_ids\",\n      \"properties\": {\n        \"dtype\": \"object\",\n        \"semantic_type\": \"\",\n        \"description\": \"\"\n      }\n    },\n    {\n      \"column\": \"token_type_ids\",\n      \"properties\": {\n        \"dtype\": \"object\",\n        \"semantic_type\": \"\",\n        \"description\": \"\"\n      }\n    },\n    {\n      \"column\": \"attention_mask\",\n      \"properties\": {\n        \"dtype\": \"object\",\n        \"semantic_type\": \"\",\n        \"description\": \"\"\n      }\n    }\n  ]\n}"
            }
          },
          "metadata": {},
          "execution_count": 30
        }
      ]
    },
    {
      "cell_type": "code",
      "source": [
        "import pandas as pd\n",
        "embeddings_df = pd.DataFrame(embeddings)\n",
        "\n",
        "# Save to CSV\n",
        "embeddings_df.to_csv('/content/embeddings.csv', index=False)"
      ],
      "metadata": {
        "id": "jUvWovxYtPtJ"
      },
      "execution_count": null,
      "outputs": []
    },
    {
      "cell_type": "markdown",
      "source": [
        "### 3.4 Model Deployment"
      ],
      "metadata": {
        "id": "QcZEKLbiDThz"
      }
    },
    {
      "cell_type": "code",
      "source": [
        "# Deploying Model\n",
        "actual_comment_df = df['Cleaned_Comment'].tolist()\n",
        "all_comments_as_strings = [str(comment) for comment in actual_comment_df]\n",
        "\n",
        "# Tokenize comments\n",
        "tokenized_data = tokenize_comments(all_comments_as_strings, tokenizer)\n",
        "\n",
        "# Get embeddings\n",
        "comment_embeddings = get_embeddings(\n",
        "    input_ids=tokenized_data['input_ids'],\n",
        "    attention_mask=tokenized_data['attention_mask'],\n",
        "    model=model,\n",
        "    device='cpu'\n",
        ")\n",
        "\n",
        "print(comment_embeddings)"
      ],
      "metadata": {
        "colab": {
          "base_uri": "https://localhost:8080/"
        },
        "id": "dDxRYqOFsYc7",
        "outputId": "f30d8e94-8728-4511-c844-7d8e36ffe9b6"
      },
      "execution_count": null,
      "outputs": [
        {
          "output_type": "stream",
          "name": "stdout",
          "text": [
            "[[-1.2283839e-01  1.6690789e-02  7.3839438e-01 ...  2.0021458e-01\n",
            "   4.6562180e-02  3.0412123e-01]\n",
            " [ 1.2339074e-01 -2.4986373e-02  4.3236312e-01 ...  1.9045402e-01\n",
            "  -2.3856263e-01 -1.5387300e-01]\n",
            " [ 5.8328532e-02  6.1464675e-02 -4.7621336e-02 ... -1.4593056e-01\n",
            "  -4.0390816e-01 -3.9151922e-01]\n",
            " ...\n",
            " [-1.5876792e-01 -7.9961736e-03  5.5682158e-01 ...  6.4557120e-02\n",
            "   1.0501956e-01  1.9145887e-01]\n",
            " [ 1.3265926e-01  1.2723684e-01  6.6187024e-01 ...  2.8434440e-01\n",
            "   5.5004206e-02 -4.1535310e-03]\n",
            " [ 1.5525833e-01  2.4204440e-01  5.0426203e-01 ...  3.9385378e-02\n",
            "  -1.7939973e-01  1.5706818e-04]]\n"
          ]
        }
      ]
    },
    {
      "cell_type": "code",
      "source": [
        "embeddings_df.to_csv('/content/actual_comment_embeddings.csv', index=False)"
      ],
      "metadata": {
        "id": "NCg_HXna04JH"
      },
      "execution_count": null,
      "outputs": []
    },
    {
      "cell_type": "code",
      "source": [
        "actual_comment_embeddings = pd.read_csv(\"actual_comment_embeddings.csv\")"
      ],
      "metadata": {
        "id": "Qd8QQ0dyVycz"
      },
      "execution_count": null,
      "outputs": []
    },
    {
      "cell_type": "markdown",
      "source": [
        "### 4. RAG"
      ],
      "metadata": {
        "id": "oIktTKgiNAx7"
      }
    },
    {
      "cell_type": "markdown",
      "source": [
        "### 4.1 RAG Initialization"
      ],
      "metadata": {
        "id": "g8pIUlcJ9i6L"
      }
    },
    {
      "cell_type": "code",
      "source": [
        "pip uninstall transformers accelerate -y"
      ],
      "metadata": {
        "id": "BEnlizRlC2Ju"
      },
      "execution_count": null,
      "outputs": []
    },
    {
      "cell_type": "code",
      "source": [
        "pip install transformers[torch]"
      ],
      "metadata": {
        "id": "DUskiP6nC3p9"
      },
      "execution_count": null,
      "outputs": []
    },
    {
      "cell_type": "code",
      "source": [
        "! pip install -U langchain-nomic langchain_community tiktoken langchainhub chromadb langchain langgraph tavily-python gpt4all"
      ],
      "metadata": {
        "id": "ikuCC_9VIu15"
      },
      "execution_count": null,
      "outputs": []
    },
    {
      "cell_type": "code",
      "source": [
        "pip install accelerate"
      ],
      "metadata": {
        "colab": {
          "base_uri": "https://localhost:8080/"
        },
        "id": "9FxQ0TMKBgv0",
        "outputId": "9b0abe7a-e8f5-4da8-a7b7-734f55547f5d"
      },
      "execution_count": null,
      "outputs": [
        {
          "output_type": "stream",
          "name": "stdout",
          "text": [
            "\u001b[33mWARNING: Running pip as the 'root' user can result in broken permissions and conflicting behaviour with the system package manager. It is recommended to use a virtual environment instead: https://pip.pypa.io/warnings/venv\u001b[0m\u001b[33m\n",
            "\u001b[0m"
          ]
        }
      ]
    },
    {
      "cell_type": "code",
      "source": [
        "pip install git+https://github.com/huggingface/accelerate"
      ],
      "metadata": {
        "id": "JHJBQfwnBkpa"
      },
      "execution_count": null,
      "outputs": []
    },
    {
      "cell_type": "code",
      "source": [
        "! git clone https://github.com/huggingface/accelerate"
      ],
      "metadata": {
        "colab": {
          "base_uri": "https://localhost:8080/"
        },
        "id": "AjCFxObNBqFU",
        "outputId": "d85a3009-a39d-43ae-8520-fbf947a2ae32"
      },
      "execution_count": null,
      "outputs": [
        {
          "output_type": "stream",
          "name": "stdout",
          "text": [
            "fatal: destination path 'accelerate' already exists and is not an empty directory.\n"
          ]
        }
      ]
    },
    {
      "cell_type": "code",
      "source": [
        "! cd accelerate"
      ],
      "metadata": {
        "id": "wa5pdeJPBsj3"
      },
      "execution_count": null,
      "outputs": []
    },
    {
      "cell_type": "code",
      "source": [
        "pip install -e"
      ],
      "metadata": {
        "colab": {
          "base_uri": "https://localhost:8080/"
        },
        "id": "8zOEq9yvBune",
        "outputId": "f835b318-573d-451d-b09b-8d2285dad3b8"
      },
      "execution_count": null,
      "outputs": [
        {
          "output_type": "stream",
          "name": "stdout",
          "text": [
            "\n",
            "Usage:   \n",
            "  pip install [options] <requirement specifier> [package-index-options] ...\n",
            "  pip install [options] -r <requirements file> [package-index-options] ...\n",
            "  pip install [options] [-e] <vcs project url> ...\n",
            "  pip install [options] [-e] <local project path> ...\n",
            "  pip install [options] <archive url/path> ...\n",
            "\n",
            "-e option requires 1 argument\n"
          ]
        }
      ]
    },
    {
      "cell_type": "code",
      "source": [
        "! python -c \"from accelerate.utils import write_basic_config; write_basic_config(mixed_precision='fp16')\""
      ],
      "metadata": {
        "colab": {
          "base_uri": "https://localhost:8080/"
        },
        "id": "2avd920kB2QH",
        "outputId": "1557ed5c-d23c-4c5b-d397-a97424f16226"
      },
      "execution_count": null,
      "outputs": [
        {
          "output_type": "stream",
          "name": "stdout",
          "text": [
            "Configuration already exists at /root/.cache/huggingface/accelerate/default_config.yaml, will not override. Run `accelerate config` manually or pass a different `save_location`.\n"
          ]
        }
      ]
    },
    {
      "cell_type": "code",
      "source": [
        "pip install faiss-cpu"
      ],
      "metadata": {
        "colab": {
          "base_uri": "https://localhost:8080/"
        },
        "id": "CUTyHDfXL8Vb",
        "outputId": "f5f01238-9242-45b3-932a-5434be43831c"
      },
      "execution_count": null,
      "outputs": [
        {
          "output_type": "stream",
          "name": "stdout",
          "text": [
            "Requirement already satisfied: faiss-cpu in /usr/local/lib/python3.10/dist-packages (1.8.0)\n",
            "Requirement already satisfied: numpy in /usr/local/lib/python3.10/dist-packages (from faiss-cpu) (1.25.2)\n",
            "\u001b[33mWARNING: Running pip as the 'root' user can result in broken permissions and conflicting behaviour with the system package manager. It is recommended to use a virtual environment instead: https://pip.pypa.io/warnings/venv\u001b[0m\u001b[33m\n",
            "\u001b[0m"
          ]
        }
      ]
    },
    {
      "cell_type": "code",
      "source": [
        "pip install faiss-gpu"
      ],
      "metadata": {
        "colab": {
          "base_uri": "https://localhost:8080/"
        },
        "id": "qcr0F2uRDBpR",
        "outputId": "b3c53721-ae3b-4c21-82de-658938d7ade9"
      },
      "execution_count": null,
      "outputs": [
        {
          "output_type": "stream",
          "name": "stdout",
          "text": [
            "Requirement already satisfied: faiss-gpu in /usr/local/lib/python3.10/dist-packages (1.7.2)\n",
            "\u001b[33mWARNING: Running pip as the 'root' user can result in broken permissions and conflicting behaviour with the system package manager. It is recommended to use a virtual environment instead: https://pip.pypa.io/warnings/venv\u001b[0m\u001b[33m\n",
            "\u001b[0m"
          ]
        }
      ]
    },
    {
      "cell_type": "code",
      "source": [
        "import torch\n",
        "\n",
        "# Check if CUDA is available and set the default device to GPU\n",
        "if torch.cuda.is_available():\n",
        "    device = torch.device(\"cuda\")\n",
        "    print(\"Using GPU:\", torch.cuda.get_device_name(0))\n",
        "else:\n",
        "    device = torch.device(\"cpu\")\n",
        "    print(\"GPU not available, using CPU instead.\")"
      ],
      "metadata": {
        "colab": {
          "base_uri": "https://localhost:8080/"
        },
        "id": "Mj7oWPeLDeQr",
        "outputId": "b51d534e-8ea5-47ee-f412-86f6a6276941"
      },
      "execution_count": null,
      "outputs": [
        {
          "output_type": "stream",
          "name": "stdout",
          "text": [
            "Using GPU: Tesla T4\n"
          ]
        }
      ]
    },
    {
      "cell_type": "markdown",
      "source": [
        "### 4.2 RAG Retriever Pre-Training"
      ],
      "metadata": {
        "id": "Wvm7Vn7q9q1x"
      }
    },
    {
      "cell_type": "code",
      "source": [
        "import os\n",
        "import torch\n",
        "import numpy as np\n",
        "from transformers import DistilBertTokenizer, DistilBertModel, RagConfig, RagTokenForGeneration, RagRetriever, Trainer, TrainingArguments\n",
        "import faiss\n",
        "from torch.utils.data import Dataset\n",
        "\n",
        "class DocumentStore:\n",
        "    def __init__(self, document_paths):\n",
        "        self.documents = []\n",
        "        for path in document_paths:\n",
        "            if os.path.exists(path):\n",
        "                with open(path, 'r', encoding='utf-8') as file:\n",
        "                    text = file.read()\n",
        "                self.documents.append({'title': os.path.basename(path), 'text': text})\n",
        "\n",
        "    def get_doc_text(self, doc_id):\n",
        "        return self.documents[doc_id]['text']\n",
        "\n",
        "class CustomRagRetriever(RagRetriever):\n",
        "    def __init__(self, config, question_encoder_tokenizer, generator_tokenizer, document_store):\n",
        "        super().__init__(config, question_encoder_tokenizer=question_encoder_tokenizer, generator_tokenizer=generator_tokenizer)\n",
        "        self.document_store = document_store\n",
        "\n",
        "    def retrieve(self, question_hidden_states, n_docs):\n",
        "        question_hidden_states_np = question_hidden_states.numpy()\n",
        "        D, I = self.index.search(question_hidden_states_np, n_docs)\n",
        "        docs = []\n",
        "        for query_indices in I:\n",
        "            query_docs = [self.document_store.get_doc_text(idx) for idx in query_indices if idx < len(self.document_store.documents)]\n",
        "            docs.append(query_docs)\n",
        "        return D, I, docs\n",
        "\n",
        "tokenizer = DistilBertTokenizer.from_pretrained('distilbert-base-uncased')\n",
        "model = DistilBertModel.from_pretrained('distilbert-base-uncased')\n",
        "\n",
        "file_paths = [\n",
        "    \"/content/Sha_2023_Basketball_March.txt\",\n",
        "    \"/content/Interview Transcript.txt\",\n",
        "    \"/content/Interview Script II.txt\",\n",
        "    \"/content/March Madness 2024 picks.txt\",\n",
        "    \"/content/Fearnhead-CalculatingStrengthSchedule-2010.txt\",\n",
        "    \"/content/College basketball predictions 2022-23 article.txt\",\n",
        "    \"/content/Blog.txt\"\n",
        "]\n",
        "document_store = DocumentStore(document_paths)\n",
        "document_texts = [doc['text'] for doc in document_store.documents]\n",
        "\n",
        "inputs = tokenizer(document_texts, return_tensors=\"pt\", max_length=512, padding=\"max_length\", truncation=True)\n",
        "with torch.no_grad():\n",
        "    outputs = model(**inputs)\n",
        "    embeddings = outputs.last_hidden_state.mean(dim=1)\n",
        "\n",
        "dimension = embeddings.shape[1]\n",
        "index = faiss.IndexFlatL2(dimension)\n",
        "index_id_map = faiss.IndexIDMap(index)\n",
        "index_id_map.add_with_ids(embeddings.numpy(), np.array(range(len(embeddings))))\n",
        "\n",
        "config = RagConfig.from_pretrained('facebook/rag-token-base', use_dummy_dataset=True)\n",
        "retriever = CustomRagRetriever(config, tokenizer, tokenizer, document_store)\n",
        "retriever.index = index_id_map\n",
        "rag_model = RagTokenForGeneration.from_pretrained('facebook/rag-token-base', config=config)\n",
        "rag_model.set_retriever(retriever)\n",
        "\n",
        "class MyDataset(Dataset):\n",
        "    def __init__(self, input_ids, attention_mask, labels):\n",
        "        self.input_ids = input_ids\n",
        "        self.attention_mask = attention_mask\n",
        "        self.labels = labels\n",
        "\n",
        "    def __len__(self):\n",
        "        return len(self.input_ids)\n",
        "\n",
        "    def __getitem__(self, idx):\n",
        "        return {\n",
        "            'input_ids': self.input_ids[idx],\n",
        "            'attention_mask': self.attention_mask[idx],\n",
        "            'labels': self.labels[idx]\n",
        "        }\n",
        "\n",
        "training_args = TrainingArguments(\n",
        "    output_dir='./rag_training_results',\n",
        "    num_train_epochs=3,\n",
        "    per_device_train_batch_size=2,\n",
        "    warmup_steps=500,\n",
        "    weight_decay=0.01,\n",
        "    logging_dir='./logs',\n",
        "    logging_steps=10,\n",
        ")\n",
        "\n",
        "labels = torch.tensor(np.random.rand(len(inputs['input_ids']), model.config.num_labels), dtype=torch.float)\n",
        "train_dataset = MyDataset(inputs['input_ids'], inputs['attention_mask'], labels)\n",
        "\n",
        "trainer = Trainer(\n",
        "    model=rag_model,\n",
        "    args=training_args,\n",
        "    train_dataset=train_dataset,\n",
        "    tokenizer=tokenizer\n",
        ")\n",
        "\n",
        "try:\n",
        "    trainer.train()\n",
        "except Exception as e:\n",
        "    print(f\"Error during training: {e}\")\n"
      ],
      "metadata": {
        "id": "77gAsHvq4iFN"
      },
      "execution_count": null,
      "outputs": []
    },
    {
      "cell_type": "code",
      "source": [
        "documents = [\n",
        "    \"/content/Sha_2023_Basketball_March.txt\",\n",
        "    \"/content/Interview Transcript.txt\",\n",
        "    \"/content/Interview Script II.txt\",\n",
        "    \"/content/March Madness 2024 picks.txt\",\n",
        "    \"/content/Fearnhead-CalculatingStrengthSchedule-2010.txt\",\n",
        "    \"/content/College basketball predictions 2022-23 article.txt\",\n",
        "    \"/content/Blog.txt\"\n",
        "]\n",
        "\n",
        "# Initialize Document Store\n",
        "document_store = DocumentStore(documents)\n",
        "print(\"Document Store Initialization:\", [doc for doc in document_store.documents])\n",
        "\n",
        "# Initialize the retriever (assuming the model and tokenizer are set up)\n",
        "config = RagConfig.from_pretrained('facebook/rag-token-base', use_dummy_dataset=True)\n",
        "retriever = CustomRagRetriever(config, tokenizer, tokenizer, document_store)\n",
        "\n",
        "# Test retrieval\n",
        "test_query = \"Example query text\"\n",
        "test_query_embedding = model(**tokenizer(test_query, return_tensors='pt', padding=True, truncation=True).to(model.device))\n",
        "D, I, docs = retriever.retrieve(test_query_embedding.last_hidden_state.mean(dim=1), n_docs=1)\n",
        "print(\"Retrieved Documents:\", docs)"
      ],
      "metadata": {
        "id": "Gq9yun0PAI9C"
      },
      "execution_count": null,
      "outputs": []
    },
    {
      "cell_type": "code",
      "source": [
        "class DocumentStore:\n",
        "    def __init__(self, document_paths):\n",
        "        self.documents = []\n",
        "        for path in document_paths:\n",
        "            if os.path.exists(path):\n",
        "                with open(path, 'r', encoding='utf-8') as file:\n",
        "                    text = file.read()\n",
        "                title = os.path.basename(path)\n",
        "                self.documents.append({'title': title, 'text': text})\n",
        "            else:\n",
        "                print(f\"Warning: File not found {path}\")\n",
        "\n",
        "    def get_doc_text(self, doc_id):\n",
        "        return self.documents[doc_id]\n",
        "\n",
        "\n",
        "class CustomRagRetriever(RagRetriever):\n",
        "        question_hidden_states_np = question_hidden_states.astype('float32')\n",
        "        # Perform the FAISS search\n",
        "        D, I = self.index.search(question_hidden_states_np, n_docs)\n",
        "        docs = []\n",
        "        for query_indices in I:\n",
        "            query_docs = []\n",
        "            for idx in query_indices:\n",
        "                doc_data = self.document_store.get_doc_text(int(idx))\n",
        "                query_docs.append({'title': doc_data['title'], 'text': doc_data['text']})\n",
        "            docs.append(query_docs)\n",
        "        return D, I, docs\n"
      ],
      "metadata": {
        "id": "K0oePBEXzJkE"
      },
      "execution_count": null,
      "outputs": []
    },
    {
      "cell_type": "code",
      "source": [
        "tokenizer = DistilBertTokenizer.from_pretrained(model_dir)\n",
        "model = DistilBertModel.from_pretrained(model_dir)\n",
        "\n",
        "documents = [\n",
        "    \"/content/Sha_2023_Basketball_March.txt\",\n",
        "    \"/content/Interview Transcript.txt\",\n",
        "    \"/content/Interview Script II.txt\",\n",
        "    \"/content/March Madness 2024 picks.txt\",\n",
        "    \"/content/Fearnhead-CalculatingStrengthSchedule-2010.txt\",\n",
        "    \"/content/College basketball predictions 2022-23 article.txt\",\n",
        "    \"/content/Blog.txt\"\n",
        "]\n",
        "document_store = DocumentStore(documents)\n",
        "\n",
        "# Tokenize documents\n",
        "inputs = tokenizer(documents, return_tensors=\"pt\", padding=True, truncation=True, max_length=16)\n",
        "inputs = inputs\n",
        "with torch.no_grad():\n",
        "    outputs = model(**inputs)\n",
        "    embeddings = outputs.last_hidden_state.mean(dim=1)\n",
        "\n",
        "# Create a FAISS index\n",
        "dimension = embeddings.shape[1]\n",
        "index = faiss.IndexFlatL2(dimension)\n",
        "index = faiss.IndexIDMap(index)\n",
        "index.add_with_ids(embeddings, np.array(range(len(embeddings))))\n",
        "\n",
        "config = RagConfig.from_pretrained(\"facebook/rag-token-base\", use_dummy_dataset=True)\n",
        "retriever = CustomRagRetriever(config=config, question_encoder_tokenizer=tokenizer, generator_tokenizer=tokenizer, document_store=document_store)\n",
        "retriever.index = index\n",
        "rag_model = RagTokenForGeneration.from_pretrained(\"facebook/rag-token-base\", config=config)\n",
        "rag_model.set_retriever(retriever)\n",
        "\n",
        "training_args = TrainingArguments(\n",
        "    output_dir='./results',\n",
        "    num_train_epochs=3,\n",
        "    per_device_train_batch_size=8,\n",
        "    logging_dir='./logs'\n",
        ")"
      ],
      "metadata": {
        "id": "3QaXftcPzOxG"
      },
      "execution_count": null,
      "outputs": []
    },
    {
      "cell_type": "code",
      "source": [
        "!rm -rf /root/.cache/huggingface/datasets/*\n",
        "!rm -rf /root/.cache/huggingface/transformers/*"
      ],
      "metadata": {
        "id": "13If_homTe_a"
      },
      "execution_count": null,
      "outputs": []
    },
    {
      "cell_type": "markdown",
      "source": [
        "### 4.3 Hyperparameter Tuning"
      ],
      "metadata": {
        "id": "vRP6M9qZ9t83"
      }
    },
    {
      "cell_type": "code",
      "source": [
        "import optuna\n",
        "from transformers import Trainer, TrainingArguments\n",
        "\n",
        "def model_init():\n",
        "    return RagTokenForGeneration.from_pretrained(\"facebook/rag-token-base\", config=config)\n",
        "\n",
        "def objective(trial):\n",
        "    # Hyperparameters to tune\n",
        "    learning_rate = trial.suggest_float(\"learning_rate\", 1e-5, 5e-4, log=True)\n",
        "    num_train_epochs = trial.suggest_int(\"num_train_epochs\", 2, 5)\n",
        "    per_device_train_batch_size = trial.suggest_categorical(\"per_device_train_batch_size\", [4, 8, 16])\n",
        "\n",
        "    # Initialize the Trainer with the hyperparameter values\n",
        "    training_args = TrainingArguments(\n",
        "        output_dir=\"./results\",\n",
        "        learning_rate=learning_rate,\n",
        "        num_train_epochs=num_train_epochs,\n",
        "        per_device_train_batch_size=per_device_train_batch_size,\n",
        "        weight_decay=0.01,\n",
        "        logging_dir='./logs',\n",
        "        report_to=\"none\"\n",
        "    )\n",
        "\n",
        "    trainer = Trainer(\n",
        "        model_init=model_init,  # model initialization\n",
        "        args=training_args,\n",
        "        train_dataset=train_dataset,\n",
        "        tokenizer=tokenizer\n",
        "    )\n",
        "\n",
        "    # Run\n",
        "    trainer.train()\n",
        "    eval_result = trainer.evaluate()\n",
        "\n",
        "    return eval_result[\"eval_loss\"]\n",
        "\n",
        "study = optuna.create_study(direction=\"minimize\")\n",
        "study.optimize(objective, n_trials=10)\n"
      ],
      "metadata": {
        "id": "DAILiOLL162P"
      },
      "execution_count": null,
      "outputs": []
    },
    {
      "cell_type": "markdown",
      "source": [
        "### 4.4 RAG Deployment"
      ],
      "metadata": {
        "id": "lmolJ9W19wfV"
      }
    },
    {
      "cell_type": "markdown",
      "source": [
        "Demo Deployed in \"Gradient AI\":\n",
        "Refer to Github --Readme \"Model Demo\"\n",
        "\n"
      ],
      "metadata": {
        "id": "0uEgVCke9CP7"
      }
    }
  ]
}